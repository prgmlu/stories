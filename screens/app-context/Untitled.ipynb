{
 "cells": [
  {
   "cell_type": "code",
   "execution_count": 1,
   "metadata": {},
   "outputs": [],
   "source": [
    "from glob import glob as g"
   ]
  },
  {
   "cell_type": "code",
   "execution_count": 15,
   "metadata": {},
   "outputs": [],
   "source": [
    "a = g('*.jpg')"
   ]
  },
  {
   "cell_type": "code",
   "execution_count": 47,
   "metadata": {},
   "outputs": [
    {
     "data": {
      "text/plain": [
       "['listen',\n",
       " 'run',\n",
       " 'read',\n",
       " 'stop',\n",
       " 'eat',\n",
       " 'study',\n",
       " 'give',\n",
       " 'make',\n",
       " 'play',\n",
       " 'watch',\n",
       " 'lead',\n",
       " 'leave',\n",
       " 'drink',\n",
       " 'sing',\n",
       " 'meet',\n",
       " 'ask',\n",
       " 'fall',\n",
       " 'sell',\n",
       " 'cook',\n",
       " 'pull',\n",
       " 'help',\n",
       " 'draw',\n",
       " 'write',\n",
       " 'shop',\n",
       " 'feel',\n",
       " 'stand',\n",
       " 'buy',\n",
       " 'playmusic',\n",
       " 'injure',\n",
       " 'go',\n",
       " 'love',\n",
       " 'pay',\n",
       " 'talk',\n",
       " 'lose',\n",
       " 'jump',\n",
       " 'put',\n",
       " 'cut',\n",
       " 'sit',\n",
       " 'laugh',\n",
       " 'think',\n",
       " 'look',\n",
       " 'grow',\n",
       " 'build',\n",
       " 'wait',\n",
       " 'win',\n",
       " 'take',\n",
       " 'work']"
      ]
     },
     "execution_count": 47,
     "metadata": {},
     "output_type": "execute_result"
    }
   ],
   "source": [
    "eng_verbs"
   ]
  },
  {
   "cell_type": "code",
   "execution_count": 49,
   "metadata": {
    "scrolled": false
   },
   "outputs": [
    {
     "data": {
      "text/plain": [
       "['يسمع',\n",
       " 'يجري',\n",
       " 'يقرأ',\n",
       " 'يتوقف',\n",
       " 'يأكل',\n",
       " 'يذاكر',\n",
       " 'يعطي',\n",
       " 'يصنع',\n",
       " 'يلعب',\n",
       " 'يشاهد',\n",
       " 'يقود',\n",
       " 'يترك',\n",
       " 'يشرب',\n",
       " 'يغني',\n",
       " 'يقابل',\n",
       " 'يسأل',\n",
       " 'يسقط',\n",
       " 'يبيع',\n",
       " 'يطبخ',\n",
       " 'يشد',\n",
       " 'يساعد',\n",
       " 'يرسم',\n",
       " 'يكتب',\n",
       " 'يتسوق',\n",
       " 'يشعر',\n",
       " 'يقف',\n",
       " 'يشتري',\n",
       " 'يعزف',\n",
       " 'يصاب',\n",
       " 'يذهب',\n",
       " 'يحب',\n",
       " 'يدفع',\n",
       " 'يتحدث',\n",
       " 'يخسر',\n",
       " 'يقفز',\n",
       " 'يضع',\n",
       " 'يقص',\n",
       " 'يجلس',\n",
       " 'يضحك',\n",
       " 'يفكر',\n",
       " 'ينظر',\n",
       " 'ينمو',\n",
       " 'يبني',\n",
       " 'ينتظر',\n",
       " 'يفوز',\n",
       " 'يأخذ',\n",
       " 'يعمل']"
      ]
     },
     "execution_count": 49,
     "metadata": {},
     "output_type": "execute_result"
    }
   ],
   "source": [
    "ara_verbs"
   ]
  },
  {
   "cell_type": "code",
   "execution_count": 50,
   "metadata": {},
   "outputs": [
    {
     "data": {
      "text/plain": [
       "47"
      ]
     },
     "execution_count": 50,
     "metadata": {},
     "output_type": "execute_result"
    }
   ],
   "source": [
    "len(eng_verbs)"
   ]
  },
  {
   "cell_type": "code",
   "execution_count": 21,
   "metadata": {},
   "outputs": [],
   "source": [
    "# ara_verbs = [i.split('.')[0] for i in a]\n",
    "# eng_verbs = []"
   ]
  },
  {
   "cell_type": "code",
   "execution_count": 22,
   "metadata": {},
   "outputs": [
    {
     "name": "stdout",
     "output_type": "stream",
     "text": [
      "يسمعlisten\n",
      "يجريrun\n",
      "يقرأread\n",
      "يتوقفstop\n",
      "يأكلeat\n",
      "يذاكرstudy\n",
      "يعطيgive\n",
      "يصنعmake\n",
      "يلعبplay\n",
      "يشاهدwatch\n",
      "يقودlead\n",
      "يتركleave\n",
      "يشربdrink\n",
      "يغنيsing\n",
      "يقابلmeet\n",
      "يسألask\n",
      "يسقطfall\n",
      "يبيعsell\n",
      "يطبخcook\n",
      "يشدpull\n",
      "يساعدhelp\n",
      "يرسمdraw\n",
      "يكتبwrite\n",
      "يتسوقshop\n",
      "يشعرfeel\n",
      "يقفstand\n",
      "يشتريbuy\n",
      "يعزفplay-music\n",
      "يصابinjure\n",
      "يذهبgo\n",
      "يحبlove\n",
      "يدفعpay\n",
      "يتحدثtalk\n",
      "يخسرlose\n",
      "يقفزjump\n",
      "يضعput\n",
      "يقصcut\n",
      "يجلسsit\n",
      "يضحكlaugh\n",
      "يفكرthink\n",
      "ينظرlook\n",
      "ينموgrow\n",
      "يبنيbuild\n",
      "ينتظرwait\n",
      "يفوزwin\n",
      "يأخذtake\n",
      "يعملwork\n"
     ]
    }
   ],
   "source": [
    "for i in ara_verbs:\n",
    "    inp = input(i)\n",
    "    eng_verbs.append(i)"
   ]
  },
  {
   "cell_type": "code",
   "execution_count": null,
   "metadata": {},
   "outputs": [],
   "source": []
  },
  {
   "cell_type": "code",
   "execution_count": 27,
   "metadata": {},
   "outputs": [],
   "source": [
    "t = '''\n",
    "يسمعlisten\n",
    "يجريrun\n",
    "يقرأread\n",
    "يتوقفstop\n",
    "يأكلeat\n",
    "يذاكرstudy\n",
    "يعطيgive\n",
    "يصنعmake\n",
    "يلعبplay\n",
    "يشاهدwatch\n",
    "يقودlead\n",
    "يتركleave\n",
    "يشربdrink\n",
    "يغنيsing\n",
    "يقابلmeet\n",
    "يسألask\n",
    "يسقطfall\n",
    "يبيعsell\n",
    "يطبخcook\n",
    "يشدpull\n",
    "يساعدhelp\n",
    "يرسمdraw\n",
    "يكتبwrite\n",
    "يتسوقshop\n",
    "يشعرfeel\n",
    "يقفstand\n",
    "يشتريbuy\n",
    "يعزفplay-music\n",
    "يصابinjure\n",
    "يذهبgo\n",
    "يحبlove\n",
    "يدفعpay\n",
    "يتحدثtalk\n",
    "يخسرlose\n",
    "يقفزjump\n",
    "يضعput\n",
    "يقصcut\n",
    "يجلسsit\n",
    "يضحكlaugh\n",
    "يفكرthink\n",
    "ينظرlook\n",
    "ينموgrow\n",
    "يبنيbuild\n",
    "ينتظرwait\n",
    "يفوزwin\n",
    "يأخذtake\n",
    "يعملwork\n",
    "'''"
   ]
  },
  {
   "cell_type": "code",
   "execution_count": null,
   "metadata": {},
   "outputs": [],
   "source": [
    "m = [i for i in t if i in 'abcdefghijklmnopqrstuvwxyz\\n']"
   ]
  },
  {
   "cell_type": "code",
   "execution_count": 37,
   "metadata": {},
   "outputs": [],
   "source": [
    "eng_verbs = ''.join(m).split()"
   ]
  },
  {
   "cell_type": "code",
   "execution_count": 38,
   "metadata": {
    "collapsed": true
   },
   "outputs": [
    {
     "data": {
      "text/plain": [
       "['listen',\n",
       " 'run',\n",
       " 'read',\n",
       " 'stop',\n",
       " 'eat',\n",
       " 'study',\n",
       " 'give',\n",
       " 'make',\n",
       " 'play',\n",
       " 'watch',\n",
       " 'lead',\n",
       " 'leave',\n",
       " 'drink',\n",
       " 'sing',\n",
       " 'meet',\n",
       " 'ask',\n",
       " 'fall',\n",
       " 'sell',\n",
       " 'cook',\n",
       " 'pull',\n",
       " 'help',\n",
       " 'draw',\n",
       " 'write',\n",
       " 'shop',\n",
       " 'feel',\n",
       " 'stand',\n",
       " 'buy',\n",
       " 'playmusic',\n",
       " 'injure',\n",
       " 'go',\n",
       " 'love',\n",
       " 'pay',\n",
       " 'talk',\n",
       " 'lose',\n",
       " 'jump',\n",
       " 'put',\n",
       " 'cut',\n",
       " 'sit',\n",
       " 'laugh',\n",
       " 'think',\n",
       " 'look',\n",
       " 'grow',\n",
       " 'build',\n",
       " 'wait',\n",
       " 'win',\n",
       " 'take',\n",
       " 'work']"
      ]
     },
     "execution_count": 38,
     "metadata": {},
     "output_type": "execute_result"
    }
   ],
   "source": [
    "eng_verbs"
   ]
  },
  {
   "cell_type": "code",
   "execution_count": 43,
   "metadata": {},
   "outputs": [],
   "source": [
    "import os"
   ]
  },
  {
   "cell_type": "code",
   "execution_count": 44,
   "metadata": {},
   "outputs": [
    {
     "data": {
      "text/plain": [
       "<function posix.rename(src, dst, *, src_dir_fd=None, dst_dir_fd=None)>"
      ]
     },
     "execution_count": 44,
     "metadata": {},
     "output_type": "execute_result"
    }
   ],
   "source": [
    "os.rename()"
   ]
  },
  {
   "cell_type": "code",
   "execution_count": 46,
   "metadata": {},
   "outputs": [],
   "source": [
    "for i,f in enumerate(g('*')):\n",
    "    os.rename(f,f+'.jpg')"
   ]
  },
  {
   "cell_type": "code",
   "execution_count": null,
   "metadata": {},
   "outputs": [],
   "source": []
  },
  {
   "cell_type": "code",
   "execution_count": null,
   "metadata": {},
   "outputs": [],
   "source": []
  },
  {
   "cell_type": "code",
   "execution_count": null,
   "metadata": {},
   "outputs": [],
   "source": []
  }
 ],
 "metadata": {
  "kernelspec": {
   "display_name": "Python 3",
   "language": "python",
   "name": "python3"
  },
  "language_info": {
   "codemirror_mode": {
    "name": "ipython",
    "version": 3
   },
   "file_extension": ".py",
   "mimetype": "text/x-python",
   "name": "python",
   "nbconvert_exporter": "python",
   "pygments_lexer": "ipython3",
   "version": "3.5.2"
  }
 },
 "nbformat": 4,
 "nbformat_minor": 2
}
