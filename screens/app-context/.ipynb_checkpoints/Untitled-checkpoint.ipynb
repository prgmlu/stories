{
 "cells": [
  {
   "cell_type": "code",
   "execution_count": 71,
   "metadata": {},
   "outputs": [],
   "source": [
    "arabic_names_list = []\n",
    "english_names_list = []\n",
    "splits_folder = './splits'"
   ]
  },
  {
   "cell_type": "code",
   "execution_count": 72,
   "metadata": {},
   "outputs": [],
   "source": [
    "tape = open(\"o.txt\").read().replace('\\t','').replace(\"0\",'').replace('\\n\\n','\\n').split('\\n')\n",
    "tape = tape[:106]+['انت']+['You']+tape[107:][:-1]\n",
    "arabic_names_list = [word for i,word in enumerate(tape) if i%2==0 ][9:]\n",
    "english_names_list = [word for i,word in enumerate(tape) if i%2==1 ][9:]"
   ]
  },
  {
   "cell_type": "code",
   "execution_count": 33,
   "metadata": {},
   "outputs": [],
   "source": [
    "from glob import glob as g"
   ]
  },
  {
   "cell_type": "code",
   "execution_count": 75,
   "metadata": {},
   "outputs": [
    {
     "ename": "ValueError",
     "evalue": "invalid literal for int() with base 10: 'أي '",
     "output_type": "error",
     "traceback": [
      "\u001b[0;31m---------------------------------------------------------------------------\u001b[0m",
      "\u001b[0;31mValueError\u001b[0m                                Traceback (most recent call last)",
      "\u001b[0;32m<ipython-input-75-a1f298776bbd>\u001b[0m in \u001b[0;36m<module>\u001b[0;34m()\u001b[0m\n\u001b[0;32m----> 1\u001b[0;31m \u001b[0msorted_sounds\u001b[0m \u001b[0;34m=\u001b[0m \u001b[0msorted\u001b[0m\u001b[0;34m(\u001b[0m\u001b[0mg\u001b[0m\u001b[0;34m(\u001b[0m\u001b[0;34m\"./splits/*.mp3\"\u001b[0m\u001b[0;34m)\u001b[0m\u001b[0;34m,\u001b[0m\u001b[0mkey\u001b[0m\u001b[0;34m=\u001b[0m\u001b[0;32mlambda\u001b[0m \u001b[0mx\u001b[0m\u001b[0;34m:\u001b[0m\u001b[0mint\u001b[0m\u001b[0;34m(\u001b[0m\u001b[0mx\u001b[0m\u001b[0;34m.\u001b[0m\u001b[0msplit\u001b[0m\u001b[0;34m(\u001b[0m\u001b[0;34m'/'\u001b[0m\u001b[0;34m)\u001b[0m\u001b[0;34m[\u001b[0m\u001b[0;34m-\u001b[0m\u001b[0;36m1\u001b[0m\u001b[0;34m]\u001b[0m\u001b[0;34m.\u001b[0m\u001b[0msplit\u001b[0m\u001b[0;34m(\u001b[0m\u001b[0;34m'.'\u001b[0m\u001b[0;34m)\u001b[0m\u001b[0;34m[\u001b[0m\u001b[0;34m-\u001b[0m\u001b[0;36m2\u001b[0m\u001b[0;34m]\u001b[0m\u001b[0;34m.\u001b[0m\u001b[0mreplace\u001b[0m\u001b[0;34m(\u001b[0m\u001b[0;34m'chunk'\u001b[0m\u001b[0;34m,\u001b[0m\u001b[0;34m''\u001b[0m\u001b[0;34m)\u001b[0m\u001b[0;34m)\u001b[0m\u001b[0;34m)\u001b[0m\u001b[0;34m\u001b[0m\u001b[0m\n\u001b[0m",
      "\u001b[0;32m<ipython-input-75-a1f298776bbd>\u001b[0m in \u001b[0;36m<lambda>\u001b[0;34m(x)\u001b[0m\n\u001b[0;32m----> 1\u001b[0;31m \u001b[0msorted_sounds\u001b[0m \u001b[0;34m=\u001b[0m \u001b[0msorted\u001b[0m\u001b[0;34m(\u001b[0m\u001b[0mg\u001b[0m\u001b[0;34m(\u001b[0m\u001b[0;34m\"./splits/*.mp3\"\u001b[0m\u001b[0;34m)\u001b[0m\u001b[0;34m,\u001b[0m\u001b[0mkey\u001b[0m\u001b[0;34m=\u001b[0m\u001b[0;32mlambda\u001b[0m \u001b[0mx\u001b[0m\u001b[0;34m:\u001b[0m\u001b[0mint\u001b[0m\u001b[0;34m(\u001b[0m\u001b[0mx\u001b[0m\u001b[0;34m.\u001b[0m\u001b[0msplit\u001b[0m\u001b[0;34m(\u001b[0m\u001b[0;34m'/'\u001b[0m\u001b[0;34m)\u001b[0m\u001b[0;34m[\u001b[0m\u001b[0;34m-\u001b[0m\u001b[0;36m1\u001b[0m\u001b[0;34m]\u001b[0m\u001b[0;34m.\u001b[0m\u001b[0msplit\u001b[0m\u001b[0;34m(\u001b[0m\u001b[0;34m'.'\u001b[0m\u001b[0;34m)\u001b[0m\u001b[0;34m[\u001b[0m\u001b[0;34m-\u001b[0m\u001b[0;36m2\u001b[0m\u001b[0;34m]\u001b[0m\u001b[0;34m.\u001b[0m\u001b[0mreplace\u001b[0m\u001b[0;34m(\u001b[0m\u001b[0;34m'chunk'\u001b[0m\u001b[0;34m,\u001b[0m\u001b[0;34m''\u001b[0m\u001b[0;34m)\u001b[0m\u001b[0;34m)\u001b[0m\u001b[0;34m)\u001b[0m\u001b[0;34m\u001b[0m\u001b[0m\n\u001b[0m",
      "\u001b[0;31mValueError\u001b[0m: invalid literal for int() with base 10: 'أي '"
     ]
    }
   ],
   "source": [
    "sorted_sounds = sorted(g(\"./splits/*.mp3\"),key=lambda x:int(x.split('/')[-1].split('.')[-2].replace('chunk','')))"
   ]
  },
  {
   "cell_type": "code",
   "execution_count": 76,
   "metadata": {},
   "outputs": [
    {
     "data": {
      "text/plain": [
       "['يا',\n",
       " 'و ',\n",
       " 'لقد ',\n",
       " 'ذلك ',\n",
       " 'ماذا ',\n",
       " 'أنت ',\n",
       " 'هنا ',\n",
       " 'لم ',\n",
       " 'إلى ',\n",
       " 'نعم ',\n",
       " 'كان ',\n",
       " 'هو ',\n",
       " 'ان ',\n",
       " 'هذه ',\n",
       " 'هناك ',\n",
       " 'عن ',\n",
       " 'فى ',\n",
       " 'كل ',\n",
       " 'فقط ',\n",
       " 'ليس ',\n",
       " 'كنت ',\n",
       " 'الآن ',\n",
       " 'يجب ',\n",
       " 'انا ',\n",
       " 'لك ',\n",
       " 'مع ',\n",
       " 'شيء ',\n",
       " 'لكن ',\n",
       " 'الذي ',\n",
       " 'لن ',\n",
       " 'حسنا ',\n",
       " 'سوف ',\n",
       " 'كيف ',\n",
       " 'هيا ',\n",
       " 'نحن ',\n",
       " 'إنه ',\n",
       " 'أجل ',\n",
       " 'لماذا ',\n",
       " 'إذا ',\n",
       " 'عندما ',\n",
       " 'انه ',\n",
       " 'لي ',\n",
       " 'كذلك ',\n",
       " 'الى ',\n",
       " 'انت',\n",
       " 'بعد ',\n",
       " 'هي ',\n",
       " 'أين ',\n",
       " 'أنه ',\n",
       " 'كانت ',\n",
       " 'أي ',\n",
       " 'حتى ',\n",
       " 'إنها ',\n",
       " 'أعرف ',\n",
       " 'تلك ',\n",
       " 'قبل ',\n",
       " 'قد ',\n",
       " 'الأمر ',\n",
       " 'بعض ',\n",
       " 'أو ',\n",
       " 'مثل ',\n",
       " 'أريد ',\n",
       " 'رجل ',\n",
       " 'أعتقد ',\n",
       " 'لو ',\n",
       " 'ربما ',\n",
       " 'بخير ',\n",
       " 'أيها ',\n",
       " 'يكون ',\n",
       " 'جيد ',\n",
       " 'عليك ',\n",
       " 'شخص ',\n",
       " 'أنك ',\n",
       " 'إن ',\n",
       " 'التي ',\n",
       " 'به ',\n",
       " 'علي ',\n",
       " 'ولكن ',\n",
       " 'أليس ',\n",
       " 'أحد ',\n",
       " 'الوقت ',\n",
       " 'انها ',\n",
       " 'يمكن ',\n",
       " 'اليوم ',\n",
       " 'تعرف ',\n",
       " 'تريد ',\n",
       " 'صحيح ',\n",
       " 'تكون ',\n",
       " 'أكثر ',\n",
       " 'لست ',\n",
       " 'أستطيع ']"
      ]
     },
     "execution_count": 76,
     "metadata": {},
     "output_type": "execute_result"
    }
   ],
   "source": [
    "arabic_names_list"
   ]
  },
  {
   "cell_type": "code",
   "execution_count": 78,
   "metadata": {},
   "outputs": [],
   "source": [
    "import os\n",
    "for i,f in enumerate(sorted_sounds):\n",
    "    os.rename(f, \"./splits/\"+english_names_list[i]+\".mp3\")"
   ]
  },
  {
   "cell_type": "code",
   "execution_count": 82,
   "metadata": {},
   "outputs": [
    {
     "name": "stdout",
     "output_type": "stream",
     "text": [
      "import React, { useReducer, createContext } from \"react\";\n",
      "\n",
      "export const AppContext = createContext();\n",
      "\n",
      "import { Audio } from 'expo-av';\n",
      "\n",
      "//const loadSound = async function() {\n",
      "//\tconst { sound } = await Audio.Sound.createAsync(\n",
      "//\t\trequire(\"./y.mp3\")\n",
      "//\t\t);\n",
      "//\talert(\"load\");\n",
      "//\tsound.playAsync();\n",
      "//\treturn sound;\n",
      "//}\n",
      "\n",
      "var initialVocab = {\n",
      "nouns:\n",
      "\t{\n",
      "\t\t\"bed\":\"سرير\",\n",
      "\t\t\"table\":\"طاولة\",\n",
      "\t\t\"chair\":\"كرسي\",\n",
      "\t\t\"clock\":\"ساعة\",\n",
      "\t\t\"water\":\"ماء\",\n",
      "\t\t},\n",
      "\tverbs:{\n",
      "\t\t\n",
      "\t\t\"eat\" : \"يأكل\",\n",
      "\t\t\"drink\" : \"يشرب\",\n",
      "\t\t\"sleep\" : \"ينام\",\n",
      "\t\t\"wait\" : \"ينتظر\",\n",
      "\t\t\"love\" : \"يحب\",\n",
      "\t\t\n",
      "\t\t},\n",
      "\n",
      "\tcountries:{\n",
      "\t\t\"egypt\" : \"مصر\",\n",
      "\t\t\"syria\" : \"سوريا\",\n",
      "\t\t\"iraq\" : \"العراق\",\n",
      "\t\t\"turkey\" : \"تركيا\",\n",
      "\t\t\"croatia\" : \"كرواتيا\",\n",
      "\t\t},\n",
      "\n",
      "\tanimals:{\n",
      "\t\t\"cat\" : \"قطة\",\n",
      "\t\t\"fox\" : \"ثعلب\",\n",
      "\t\t\"donkey\" : \"حمار\",\n",
      "\t\t\"dolphin\" : \"دولفين\",\n",
      "\t\t\"lion\" : \"أسد\",\n",
      "\t\t},\n",
      "}\n",
      "\n",
      "var all = {...initialVocab.nouns, ...initialVocab.verbs, ...initialVocab.countries, ...initialVocab.animals}\n",
      "export const vocab = {...initialVocab,all:all}\n",
      "\n",
      "export const imgs = {\n",
      "\t\"cat\" : require(\"./cat.jpg\"),\n",
      "\t\"fox\" : require(\"./fox.jpg\"),\n",
      "\t\"donkey\" : require(\"./donkey.jpg\"),\n",
      "\t\"dolphin\" : require(\"./dolphin.jpg\"),\n",
      "\t\"lion\" : require(\"./lion.jpg\"),\n",
      "\t\"love\" : require(\"./love.jpg\"),\n",
      "\t\"wait\" : require(\"./wait.jpg\"),\n",
      "\t\"sleep\" : require(\"./sleep.jpg\"),\n",
      "\t\"drink\" : require(\"./drink.jpg\"),\n",
      "\t\"eat\" : require(\"./eat.jpg\"),\n",
      "\t\"bed\" : require(\"./bed.jpg\"),\n",
      "\t\"table\" : require(\"./table.jpg\"),\n",
      "\t\"chair\" : require(\"./chair.jpg\"),\n",
      "\t\"clock\" : require(\"./clock.jpg\"),\n",
      "\t\"water\" : require(\"./water.jpg\"),\n",
      "\t\"egypt\" : require(\"./egypt.jpg\"),\n",
      "\t\"syria\" : require(\"./syria.jpg\"),\n",
      "\t\"iraq\" : require(\"./iraq.png\"),\n",
      "\t\"turkey\" : require(\"./turkey.jpg\"),\n",
      "\t\"croatia\" : require(\"./croatia.png\"),\n",
      "\t}\n",
      "\n",
      "export const sounds = {\n",
      "\t\"cat\" : require(\"./cat.m4a\"),\n",
      "\t\"fox\" : require(\"./fox.m4a\"),\n",
      "\t\"donkey\" : require(\"./donkey.m4a\"),\n",
      "\t\"dolphin\" : require(\"./dolphin.m4a\"),\n",
      "\t\"lion\" : require(\"./lion.m4a\"),\n",
      "\t\"love\" : require(\"./love.m4a\"),\n",
      "\t\"wait\" : require(\"./wait.m4a\"),\n",
      "\t\"sleep\" : require(\"./sleep.m4a\"),\n",
      "\t\"drink\" : require(\"./drink.m4a\"),\n",
      "\t\"eat\" : require(\"./eat.m4a\"),\n",
      "\t\"bed\" : require(\"./bed.m4a\"),\n",
      "\t\"table\" : require(\"./table.m4a\"),\n",
      "\t\"chair\" : require(\"./chair.m4a\"),\n",
      "\t\"clock\" : require(\"./clock.m4a\"),\n",
      "\t\"water\" : require(\"./water.m4a\"),\n",
      "\t\"egypt\" : require(\"./egypt.m4a\"),\n",
      "\t\"syria\" : require(\"./syria.m4a\"),\n",
      "\t\"iraq\" : require(\"./iraq.m4a\"),\n",
      "\t\"turkey\" : require(\"./turkey.m4a\"),\n",
      "\t\"croatia\" : require(\"./croatia.m4a\"),\n",
      "\t}\n",
      "\n",
      "const initialState = {\n",
      "\n",
      "\thearts:3,\n",
      "\tvocab : vocab,\n",
      "\tselection:\"all\",\n",
      "\timgs:imgs,\n",
      "\tsounds:sounds,\n",
      "\t//ySound: (async () =>await loadSound())()\n",
      "\n",
      "\t}\n",
      "\t//console.log(initialState.ySound);\n",
      "\n",
      "const reducer = (state,action) => {\n",
      "\tswitch(action.type) {\n",
      "\n",
      "\t\t\tcase \"HOLD\":\n",
      "\t\t\t\treturn {...state};\n",
      "\n",
      "\t\t\tcase \"CHANGE_HEARTS\":\n",
      "\t\t\t\treturn {...state, hearts:state.hearts+action.payload};\n",
      "\n",
      "\t\t\tcase \"SET_SELECTION\":\n",
      "\t\t\t\treturn {...state, selection:action.payload};\n",
      "\n",
      "\t\t\t}\n",
      "\t}\n",
      "\n",
      "\n",
      "export const AppContextProvider = props => {\n",
      "\tconst [state, dispatch] = useReducer(reducer, initialState);\n",
      "\treturn (\n",
      "\t\t<AppContext.Provider value={[state, dispatch]}>\n",
      "\t\t{props.children}\n",
      "\t</AppContext.Provider>\n",
      "\t\t);\n",
      "};\n",
      "\n"
     ]
    }
   ],
   "source": [
    "print(open('app-context.js').read())"
   ]
  },
  {
   "cell_type": "code",
   "execution_count": 90,
   "metadata": {},
   "outputs": [
    {
     "name": "stdout",
     "output_type": "stream",
     "text": [
      "\n",
      "export initialVocab = {\n",
      "nouns:\n",
      "\t{\n",
      "\t\t\"bed\":\"سرير\",\n",
      "\t\t\"table\":\"طاولة\",\n",
      "\t\t\"chair\":\"كرسي\",\n",
      "\t\t\"clock\":\"ساعة\",\n",
      "\t\t\"water\":\"ماء\",\n",
      "\t\t},\n",
      "\tverbs:{\n",
      "\t\t\"eat\" : \"يأكل\",\n",
      "\t\t\"drink\" : \"يشرب\",\n",
      "\t\t\"sleep\" : \"ينام\",\n",
      "\t\t\"wait\" : \"ينتظر\",\n",
      "\t\t\"love\" : \"يحب\",\n",
      "\t\t},\n",
      "\tcountries:{\n",
      "\t\t\"egypt\" : \"مصر\",\n",
      "\t\t\"syria\" : \"سوريا\",\n",
      "\t\t\"iraq\" : \"العراق\",\n",
      "\t\t\"turkey\" : \"تركيا\",\n",
      "\t\t\"croatia\" : \"كرواتيا\",\n",
      "\t\t},\n",
      "\tanimals:{\n",
      "\t\t\"cat\" : \"قطة\",\n",
      "\t\t\"fox\" : \"ثعلب\",\n",
      "\t\t\"donkey\" : \"حمار\",\n",
      "\t\t\"dolphin\" : \"دولفين\",\n",
      "\t\t\"lion\" : \"أسد\",\n",
      "\t\t},\n",
      "\tmisc:{\n",
      "\t\t}\n",
      "}\n",
      "\n"
     ]
    }
   ],
   "source": [
    "print(open('/home/cfe/j.txt').read())"
   ]
  },
  {
   "cell_type": "code",
   "execution_count": 109,
   "metadata": {},
   "outputs": [],
   "source": [
    "import json\n",
    "vocab = json.load(open('initialVocab.json'))"
   ]
  },
  {
   "cell_type": "code",
   "execution_count": 111,
   "metadata": {},
   "outputs": [],
   "source": [
    "vocab['misc']={key:val for key,val in zip(english_names_list, arabic_names_list)}"
   ]
  },
  {
   "cell_type": "code",
   "execution_count": 114,
   "metadata": {},
   "outputs": [],
   "source": [
    "json.dump(vocab,open('initialVocab.json','w'),indent=2)"
   ]
  },
  {
   "cell_type": "code",
   "execution_count": null,
   "metadata": {},
   "outputs": [],
   "source": []
  },
  {
   "cell_type": "code",
   "execution_count": 115,
   "metadata": {},
   "outputs": [],
   "source": [
    "vocab = json.load(open('initialVocab.json'))"
   ]
  },
  {
   "cell_type": "code",
   "execution_count": 116,
   "metadata": {},
   "outputs": [
    {
     "data": {
      "text/plain": [
       "{'animals': {'cat': 'قطة',\n",
       "  'dolphin': 'دولفين',\n",
       "  'donkey': 'حمار',\n",
       "  'fox': 'ثعلب',\n",
       "  'lion': 'أسد'},\n",
       " 'countries': {'croatia': 'كرواتيا',\n",
       "  'egypt': 'مصر',\n",
       "  'iraq': 'العراق',\n",
       "  'syria': 'سوريا',\n",
       "  'turkey': 'تركيا'},\n",
       " 'misc': {'A': 'أحد ',\n",
       "  'After': 'بعد ',\n",
       "  'Ali': 'علي ',\n",
       "  'Alice': 'أليس ',\n",
       "  'And': 'و ',\n",
       "  'Any': 'أي ',\n",
       "  'Are': 'هي ',\n",
       "  'As well as': 'كذلك ',\n",
       "  'Be': 'تكون ',\n",
       "  'Before': 'قبل ',\n",
       "  'But': 'ولكن ',\n",
       "  'By': 'به ',\n",
       "  'Can': 'يمكن ',\n",
       "  'Come': 'هيا ',\n",
       "  'Correct': 'صحيح ',\n",
       "  'Each': 'كل ',\n",
       "  'Even': 'حتى ',\n",
       "  'For': 'أجل ',\n",
       "  'Good': 'جيد ',\n",
       "  'He': 'انه ',\n",
       "  'Here': 'هنا ',\n",
       "  'How': 'كيف ',\n",
       "  'I': 'أستطيع ',\n",
       "  'I know': 'أعرف ',\n",
       "  'I think': 'أعتقد ',\n",
       "  'I want': 'أريد ',\n",
       "  \"I'm not\": 'لست ',\n",
       "  'If': 'لو ',\n",
       "  'In': 'فى ',\n",
       "  'Is': 'هو ',\n",
       "  'It': 'انها ',\n",
       "  'Learn': 'تعرف ',\n",
       "  'Man': 'رجل ',\n",
       "  'May': 'قد ',\n",
       "  'Me': 'لي ',\n",
       "  'More': 'أكثر ',\n",
       "  'Must': 'يجب ',\n",
       "  'Not': 'لن ',\n",
       "  'Now': 'الآن ',\n",
       "  'O': 'أيها ',\n",
       "  'Okay': 'بخير ',\n",
       "  'Only': 'فقط ',\n",
       "  'Or': 'أو ',\n",
       "  'Person': 'شخص ',\n",
       "  'Probably': 'ربما ',\n",
       "  'Some': 'بعض ',\n",
       "  'Something': 'شيء ',\n",
       "  'Such as': 'مثل ',\n",
       "  'That': 'أنه ',\n",
       "  'The': 'إن ',\n",
       "  'There': 'هناك ',\n",
       "  'This': 'هذه ',\n",
       "  'Those': 'تلك ',\n",
       "  'Time': 'الوقت ',\n",
       "  'To': 'الى ',\n",
       "  'Today': 'اليوم ',\n",
       "  'Want': 'تريد ',\n",
       "  'Was': 'كان ',\n",
       "  'We': 'نحن ',\n",
       "  'Well': 'حسنا ',\n",
       "  'When': 'عندما ',\n",
       "  'Where': 'أين ',\n",
       "  'Which': 'التي ',\n",
       "  'Why': 'لماذا ',\n",
       "  'Will': 'سوف ',\n",
       "  'With': 'مع ',\n",
       "  'Yes': 'نعم ',\n",
       "  'You': 'أنك '},\n",
       " 'nouns': {'bed': 'سرير',\n",
       "  'chair': 'كرسي',\n",
       "  'clock': 'ساعة',\n",
       "  'table': 'طاولة',\n",
       "  'water': 'ماء'},\n",
       " 'verbs': {'drink': 'يشرب',\n",
       "  'eat': 'يأكل',\n",
       "  'love': 'يحب',\n",
       "  'sleep': 'ينام',\n",
       "  'wait': 'ينتظر'}}"
      ]
     },
     "execution_count": 116,
     "metadata": {},
     "output_type": "execute_result"
    }
   ],
   "source": [
    "vocab"
   ]
  },
  {
   "cell_type": "code",
   "execution_count": 117,
   "metadata": {},
   "outputs": [
    {
     "data": {
      "text/plain": [
       "'export const sounds = {\\n\\t\"cat\" : require(\"./cat.m4a\"),\\n\\t\"fox\" : require(\"./fox.m4a\"),\\n\\t\"donkey\" : require(\"./donkey.m4a\"),\\n\\t\"dolphin\" : require(\"./dolphin.m4a\"),\\n\\t\"lion\" : require(\"./lion.m4a\"),\\n\\t\"love\" : require(\"./love.m4a\"),\\n\\t\"wait\" : require(\"./wait.m4a\"),\\n\\t\"sleep\" : require(\"./sleep.m4a\"),\\n\\t\"drink\" : require(\"./drink.m4a\"),\\n\\t\"eat\" : require(\"./eat.m4a\"),\\n\\t\"bed\" : require(\"./bed.m4a\"),\\n\\t\"table\" : require(\"./table.m4a\"),\\n\\t\"chair\" : require(\"./chair.m4a\"),\\n\\t\"clock\" : require(\"./clock.m4a\"),\\n\\t\"water\" : require(\"./water.m4a\"),\\n\\t\"egypt\" : require(\"./egypt.m4a\"),\\n\\t\"syria\" : require(\"./syria.m4a\"),\\n\\t\"iraq\" : require(\"./iraq.m4a\"),\\n\\t\"turkey\" : require(\"./turkey.m4a\"),\\n\\t\"croatia\" : require(\"./croatia.m4a\"),\\n\\t}\\n'"
      ]
     },
     "execution_count": 117,
     "metadata": {},
     "output_type": "execute_result"
    }
   ],
   "source": [
    "open('sounds.js').read()"
   ]
  },
  {
   "cell_type": "code",
   "execution_count": 126,
   "metadata": {},
   "outputs": [
    {
     "data": {
      "text/plain": [
       "715"
      ]
     },
     "execution_count": 126,
     "metadata": {},
     "output_type": "execute_result"
    }
   ],
   "source": [
    "open('sounds.js','w').write('export const sounds = {\\n\\t\"cat\" : require(\"./cat.m4a\"),\\n\\t\"fox\" : require(\"./fox.m4a\"),\\n\\t\"donkey\" : require(\"./donkey.m4a\"),\\n\\t\"dolphin\" : require(\"./dolphin.m4a\"),\\n\\t\"lion\" : require(\"./lion.m4a\"),\\n\\t\"love\" : require(\"./love.m4a\"),\\n\\t\"wait\" : require(\"./wait.m4a\"),\\n\\t\"sleep\" : require(\"./sleep.m4a\"),\\n\\t\"drink\" : require(\"./drink.m4a\"),\\n\\t\"eat\" : require(\"./eat.m4a\"),\\n\\t\"bed\" : require(\"./bed.m4a\"),\\n\\t\"table\" : require(\"./table.m4a\"),\\n\\t\"chair\" : require(\"./chair.m4a\"),\\n\\t\"clock\" : require(\"./clock.m4a\"),\\n\\t\"water\" : require(\"./water.m4a\"),\\n\\t\"egypt\" : require(\"./egypt.m4a\"),\\n\\t\"syria\" : require(\"./syria.m4a\"),\\n\\t\"iraq\" : require(\"./iraq.m4a\"),\\n\\t\"turkey\" : require(\"./turkey.m4a\"),\\n\\t\"croatia\" : require(\"./croatia.m4a\"),\\n\\t}\\n')"
   ]
  },
  {
   "cell_type": "code",
   "execution_count": 127,
   "metadata": {},
   "outputs": [],
   "source": [
    "addition = ''\n",
    "for word in english_names_list:\n",
    "    addition+='\"{}\" : require(\"./{}.mp3\"),\\n'.format(word,word)"
   ]
  },
  {
   "cell_type": "code",
   "execution_count": 130,
   "metadata": {},
   "outputs": [],
   "source": [
    "new = open('sounds.js').read().replace('export const sounds = {\\n','export const sounds = {\\n'+addition)"
   ]
  },
  {
   "cell_type": "code",
   "execution_count": 131,
   "metadata": {},
   "outputs": [
    {
     "data": {
      "text/plain": [
       "3553"
      ]
     },
     "execution_count": 131,
     "metadata": {},
     "output_type": "execute_result"
    }
   ],
   "source": [
    "open('sounds.js','w').write(new)"
   ]
  },
  {
   "cell_type": "code",
   "execution_count": 123,
   "metadata": {},
   "outputs": [
    {
     "name": "stdout",
     "output_type": "stream",
     "text": [
      "\"O\" : require(\"./O.mp3\"),\n",
      "\"And\" : require(\"./And.mp3\"),\n",
      "\"I\" : require(\"./I.mp3\"),\n",
      "\"That\" : require(\"./That.mp3\"),\n",
      "\"Why\" : require(\"./Why.mp3\"),\n",
      "\"You\" : require(\"./You.mp3\"),\n",
      "\"Here\" : require(\"./Here.mp3\"),\n",
      "\"Not\" : require(\"./Not.mp3\"),\n",
      "\"To\" : require(\"./To.mp3\"),\n",
      "\"Yes\" : require(\"./Yes.mp3\"),\n",
      "\"Was\" : require(\"./Was.mp3\"),\n",
      "\"Is\" : require(\"./Is.mp3\"),\n",
      "\"That\" : require(\"./That.mp3\"),\n",
      "\"This\" : require(\"./This.mp3\"),\n",
      "\"There\" : require(\"./There.mp3\"),\n",
      "\"More\" : require(\"./More.mp3\"),\n",
      "\"In\" : require(\"./In.mp3\"),\n",
      "\"Each\" : require(\"./Each.mp3\"),\n",
      "\"Only\" : require(\"./Only.mp3\"),\n",
      "\"Not\" : require(\"./Not.mp3\"),\n",
      "\"I\" : require(\"./I.mp3\"),\n",
      "\"Now\" : require(\"./Now.mp3\"),\n",
      "\"Must\" : require(\"./Must.mp3\"),\n",
      "\"I\" : require(\"./I.mp3\"),\n",
      "\"You\" : require(\"./You.mp3\"),\n",
      "\"With\" : require(\"./With.mp3\"),\n",
      "\"Something\" : require(\"./Something.mp3\"),\n",
      "\"But\" : require(\"./But.mp3\"),\n",
      "\"Which\" : require(\"./Which.mp3\"),\n",
      "\"Not\" : require(\"./Not.mp3\"),\n",
      "\"Well\" : require(\"./Well.mp3\"),\n",
      "\"Will\" : require(\"./Will.mp3\"),\n",
      "\"How\" : require(\"./How.mp3\"),\n",
      "\"Come\" : require(\"./Come.mp3\"),\n",
      "\"We\" : require(\"./We.mp3\"),\n",
      "\"It\" : require(\"./It.mp3\"),\n",
      "\"For\" : require(\"./For.mp3\"),\n",
      "\"Why\" : require(\"./Why.mp3\"),\n",
      "\"If\" : require(\"./If.mp3\"),\n",
      "\"When\" : require(\"./When.mp3\"),\n",
      "\"He\" : require(\"./He.mp3\"),\n",
      "\"Me\" : require(\"./Me.mp3\"),\n",
      "\"As well as\" : require(\"./As well as.mp3\"),\n",
      "\"To\" : require(\"./To.mp3\"),\n",
      "\"You\" : require(\"./You.mp3\"),\n",
      "\"After\" : require(\"./After.mp3\"),\n",
      "\"Are\" : require(\"./Are.mp3\"),\n",
      "\"Where\" : require(\"./Where.mp3\"),\n",
      "\"That\" : require(\"./That.mp3\"),\n",
      "\"The\" : require(\"./The.mp3\"),\n",
      "\"Any\" : require(\"./Any.mp3\"),\n",
      "\"Even\" : require(\"./Even.mp3\"),\n",
      "\"It\" : require(\"./It.mp3\"),\n",
      "\"I know\" : require(\"./I know.mp3\"),\n",
      "\"Those\" : require(\"./Those.mp3\"),\n",
      "\"Before\" : require(\"./Before.mp3\"),\n",
      "\"May\" : require(\"./May.mp3\"),\n",
      "\"It\" : require(\"./It.mp3\"),\n",
      "\"Some\" : require(\"./Some.mp3\"),\n",
      "\"Or\" : require(\"./Or.mp3\"),\n",
      "\"Such as\" : require(\"./Such as.mp3\"),\n",
      "\"I want\" : require(\"./I want.mp3\"),\n",
      "\"Man\" : require(\"./Man.mp3\"),\n",
      "\"I think\" : require(\"./I think.mp3\"),\n",
      "\"If\" : require(\"./If.mp3\"),\n",
      "\"Probably\" : require(\"./Probably.mp3\"),\n",
      "\"Okay\" : require(\"./Okay.mp3\"),\n",
      "\"O\" : require(\"./O.mp3\"),\n",
      "\"Be\" : require(\"./Be.mp3\"),\n",
      "\"Good\" : require(\"./Good.mp3\"),\n",
      "\"You\" : require(\"./You.mp3\"),\n",
      "\"Person\" : require(\"./Person.mp3\"),\n",
      "\"You\" : require(\"./You.mp3\"),\n",
      "\"The\" : require(\"./The.mp3\"),\n",
      "\"Which\" : require(\"./Which.mp3\"),\n",
      "\"By\" : require(\"./By.mp3\"),\n",
      "\"Ali\" : require(\"./Ali.mp3\"),\n",
      "\"But\" : require(\"./But.mp3\"),\n",
      "\"Alice\" : require(\"./Alice.mp3\"),\n",
      "\"A\" : require(\"./A.mp3\"),\n",
      "\"Time\" : require(\"./Time.mp3\"),\n",
      "\"It\" : require(\"./It.mp3\"),\n",
      "\"Can\" : require(\"./Can.mp3\"),\n",
      "\"Today\" : require(\"./Today.mp3\"),\n",
      "\"Learn\" : require(\"./Learn.mp3\"),\n",
      "\"Want\" : require(\"./Want.mp3\"),\n",
      "\"Correct\" : require(\"./Correct.mp3\"),\n",
      "\"Be\" : require(\"./Be.mp3\"),\n",
      "\"More\" : require(\"./More.mp3\"),\n",
      "\"I'm not\" : require(\"./I'm not.mp3\"),\n",
      "\"I\" : require(\"./I.mp3\"),\n",
      "\n"
     ]
    }
   ],
   "source": [
    "print(addition)"
   ]
  },
  {
   "cell_type": "code",
   "execution_count": null,
   "metadata": {},
   "outputs": [],
   "source": []
  },
  {
   "cell_type": "code",
   "execution_count": null,
   "metadata": {},
   "outputs": [],
   "source": []
  },
  {
   "cell_type": "code",
   "execution_count": null,
   "metadata": {},
   "outputs": [],
   "source": []
  },
  {
   "cell_type": "code",
   "execution_count": null,
   "metadata": {},
   "outputs": [],
   "source": []
  }
 ],
 "metadata": {
  "kernelspec": {
   "display_name": "Python 3",
   "language": "python",
   "name": "python3"
  },
  "language_info": {
   "codemirror_mode": {
    "name": "ipython",
    "version": 3
   },
   "file_extension": ".py",
   "mimetype": "text/x-python",
   "name": "python",
   "nbconvert_exporter": "python",
   "pygments_lexer": "ipython3",
   "version": "3.5.2"
  }
 },
 "nbformat": 4,
 "nbformat_minor": 2
}
