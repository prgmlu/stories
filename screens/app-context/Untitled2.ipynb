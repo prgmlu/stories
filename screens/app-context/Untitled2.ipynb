{
 "cells": [
  {
   "cell_type": "code",
   "execution_count": 1,
   "metadata": {},
   "outputs": [],
   "source": [
    "from glob import glob as g\n",
    "import requests\n",
    "import selenium.webdriver as webdriver\n",
    "import os\n",
    "if not os.path.isdir('selenium'):\n",
    "    os.mkdir('selenium')\n",
    "driver = webdriver.Chrome()"
   ]
  },
  {
   "cell_type": "code",
   "execution_count": 2,
   "metadata": {},
   "outputs": [],
   "source": [
    "def save(url,name):\n",
    "    response = requests.get(url)\n",
    "    file = open(\"./selenium/{}.{}\".format(name,url.split('.')[-1]),\"wb\")\n",
    "    file.write(response.content)\n",
    "    file.close()"
   ]
  },
  {
   "cell_type": "code",
   "execution_count": 3,
   "metadata": {},
   "outputs": [],
   "source": [
    "url_template = 'https://pixabay.com/images/search/{}/'\n",
    "img_names = [i.replace('.jpg','') for i in g('*.jpg')]"
   ]
  },
  {
   "cell_type": "code",
   "execution_count": 4,
   "metadata": {},
   "outputs": [],
   "source": [
    "#note that playmusic for example is missing, maybe some others so make sure first"
   ]
  },
  {
   "cell_type": "code",
   "execution_count": 7,
   "metadata": {},
   "outputs": [],
   "source": [
    "for name in img_names:\n",
    "    if not os.path.isdir('selenium/'+name):\n",
    "        os.mkdir('selenium/'+name)\n",
    "    driver.get(url_template.format(name))\n",
    "    srcs = []\n",
    "    try:\n",
    "        for c in range(5):\n",
    "            src = driver.find_elements_by_css_selector('.search_results img')[c].get_attribute('src')\n",
    "            srcs.append(src)\n",
    "        for c in range(5):\n",
    "            save(srcs[c],name+'/'+name+str(c))\n",
    "    except:\n",
    "        pass"
   ]
  },
  {
   "cell_type": "code",
   "execution_count": null,
   "metadata": {},
   "outputs": [],
   "source": []
  },
  {
   "cell_type": "code",
   "execution_count": null,
   "metadata": {},
   "outputs": [],
   "source": []
  }
 ],
 "metadata": {
  "kernelspec": {
   "display_name": "Python 3",
   "language": "python",
   "name": "python3"
  },
  "language_info": {
   "codemirror_mode": {
    "name": "ipython",
    "version": 3
   },
   "file_extension": ".py",
   "mimetype": "text/x-python",
   "name": "python",
   "nbconvert_exporter": "python",
   "pygments_lexer": "ipython3",
   "version": "3.5.2"
  }
 },
 "nbformat": 4,
 "nbformat_minor": 2
}
