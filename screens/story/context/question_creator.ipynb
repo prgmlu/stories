{
 "cells": [
  {
   "cell_type": "code",
   "execution_count": 1,
   "metadata": {},
   "outputs": [],
   "source": [
    "import re\n",
    "import json\n",
    "import string\n",
    "import re\n",
    "\n",
    "pat = re.compile(\"const storyTexts =(.*)const storyQ\", re.DOTALL)\n",
    "story_texts = eval(re.findall(pat,open('story-context.js').read())[0].replace(';',''))\n",
    "vocab = json.load(open('../../app-context/initialVocab.json'))"
   ]
  },
  {
   "cell_type": "code",
   "execution_count": 2,
   "metadata": {},
   "outputs": [],
   "source": [
    "flat_vocab = {}\n",
    "for key in vocab.keys():\n",
    "    for val in vocab[key]:\n",
    "        flat_vocab[val] = vocab[key][val]"
   ]
  },
  {
   "cell_type": "code",
   "execution_count": 3,
   "metadata": {},
   "outputs": [],
   "source": [
    "reverse_vocab = {val:key for key,val in zip(flat_vocab.keys(),flat_vocab.values())}"
   ]
  },
  {
   "cell_type": "code",
   "execution_count": 5,
   "metadata": {},
   "outputs": [],
   "source": [
    "#approach 1 wasnt effective, attempted to find any words in the current vocab and generate questions for\n",
    "\n",
    "# for story in story_texts:\n",
    "#     for paragraph in story:\n",
    "#         for word in paragraph.split():\n",
    "#             word_ = word.translate(str.maketrans('', '', string.punctuation))\n",
    "#             word_ = word_.replace(\"؟\",'')\n",
    "#             word_ = word_.replace(\"،\",'')\n",
    "            \n",
    "#             #replace ال\n",
    "#             original = r\"\\bال\"\n",
    "#             replacement = \"\"\n",
    "#             word_ = re.sub(original, replacement, word_)\n",
    "            \n",
    "#             #replace ات\n",
    "#             original = r\"ات\\b\"\n",
    "#             replacement = \"ة\"\n",
    "\n",
    "\n",
    "            \n",
    "#             original=\"\"\n",
    "            \n",
    "#             if word_ in reverse_vocab.keys():\n",
    "#                 print(word_)"
   ]
  },
  {
   "cell_type": "code",
   "execution_count": 6,
   "metadata": {},
   "outputs": [],
   "source": [
    "#second approach, question every 3 paragraphs"
   ]
  },
  {
   "cell_type": "code",
   "execution_count": null,
   "metadata": {},
   "outputs": [],
   "source": []
  },
  {
   "cell_type": "code",
   "execution_count": 64,
   "metadata": {},
   "outputs": [],
   "source": [
    "import numpy as np"
   ]
  },
  {
   "cell_type": "code",
   "execution_count": 10,
   "metadata": {
    "collapsed": true
   },
   "outputs": [
    {
     "data": {
      "text/plain": [
       "[[['What is the meaning of أخيها ?',\n",
       "   'brother',\n",
       "   'rat',\n",
       "   'live',\n",
       "   'pomegranate',\n",
       "   0],\n",
       "  ['What is the meaning of أأكل ?', 'egypt', 'turn', 'eat', 'know', 2],\n",
       "  ['What is the meaning of فضلك ?', 'please', 'continue', 'zucchini', 'It', 0],\n",
       "  ['What is the meaning of مروة ?', 'marwa', 'coconut', 'pass', 'mushroom', 0],\n",
       "  ['What is the meaning of أيضاً ?', 'grow', 'learn', 'also', 'A', 2],\n",
       "  ['What is the meaning of النقود ?', 'money', 'plum', 'appear', 'sell', 0]],\n",
       " [['What is the meaning of أحمد ?', 'ahmed', 'pink', 'snake', 'Probably', 0],\n",
       "  ['What is the meaning of أين ?', 'need', 'Before', 'book', 'I know', 2],\n",
       "  ['What is the meaning of الطاولة ?', 'Today', 'bird', 'mouse', 'table', 3]],\n",
       " [['What is the meaning of ذهب ?', 'rabbit', 'hold', 'raise', 'eat', 3],\n",
       "  ['What is the meaning of iwejfoiew ?', 'grow', 'talk', 'ei', 'whale', 2]],\n",
       " [['What is the meaning of for ?', 'efe', 'Correct', 'pink', 'Me', 0]]]"
      ]
     },
     "execution_count": 10,
     "metadata": {},
     "output_type": "execute_result"
    }
   ],
   "source": [
    "all_questions"
   ]
  },
  {
   "cell_type": "code",
   "execution_count": 11,
   "metadata": {},
   "outputs": [
    {
     "data": {
      "text/plain": [
       "[[0, 3, 6, 9, 12, 15], [0, 3, 6], [0, 3], [0]]"
      ]
     },
     "execution_count": 11,
     "metadata": {},
     "output_type": "execute_result"
    }
   ],
   "source": [
    "all_questions_q_indices"
   ]
  },
  {
   "cell_type": "code",
   "execution_count": 11,
   "metadata": {},
   "outputs": [],
   "source": [
    "all_questions_q_indices = [[0, 3, 6, 9, 12, 15], [0, 3, 6], [0, 3], [0]]"
   ]
  },
  {
   "cell_type": "code",
   "execution_count": 16,
   "metadata": {},
   "outputs": [],
   "source": [
    "test = [i for i in story_texts[0] if i!='s']"
   ]
  },
  {
   "cell_type": "code",
   "execution_count": 67,
   "metadata": {},
   "outputs": [],
   "source": [
    "def insert_at_indices(A,indices,insertion = 's'):\n",
    "    B = list(A)\n",
    "    for i,ind in enumerate(indices):\n",
    "        B = B[:indices[i]+1] + [insertion] +B[indices[i]+1:]\n",
    "    return B"
   ]
  },
  {
   "cell_type": "code",
   "execution_count": 31,
   "metadata": {},
   "outputs": [],
   "source": [
    "#paragraphs with 's' inserted at the apropriate indices\n",
    "adjusted_paragraph = insert_at_indices(test, all_questions_q_indices[0])"
   ]
  },
  {
   "cell_type": "code",
   "execution_count": 74,
   "metadata": {},
   "outputs": [],
   "source": [
    "x = []\n",
    "for q in all_questions:\n",
    "    x.append(flatten(q))"
   ]
  },
  {
   "cell_type": "code",
   "execution_count": 79,
   "metadata": {},
   "outputs": [
    {
     "data": {
      "text/plain": [
       "[['What is the meaning of أبي ?',\n",
       "  'My father',\n",
       "  'cat',\n",
       "  'follow',\n",
       "  'consider',\n",
       "  1,\n",
       "  'What is the meaning of كافي ?',\n",
       "  'Enough',\n",
       "  'start',\n",
       "  'corn',\n",
       "  'try',\n",
       "  1,\n",
       "  'What is the meaning of سيارة ?',\n",
       "  'car',\n",
       "  'pigeon',\n",
       "  'donkey',\n",
       "  'cabbage',\n",
       "  1,\n",
       "  'What is the meaning of نحتاج ?',\n",
       "  'We need',\n",
       "  'panda',\n",
       "  'rhinoceros',\n",
       "  'lime',\n",
       "  1],\n",
       " ['What is the meaning of سؤال ?',\n",
       "  'sell',\n",
       "  'dolphin',\n",
       "  'love',\n",
       "  'Question',\n",
       "  4,\n",
       "  'What is the meaning of الأب ?',\n",
       "  'coconut',\n",
       "  'pear',\n",
       "  'Father',\n",
       "  'For',\n",
       "  3,\n",
       "  'What is the meaning of أريد ?',\n",
       "  'mouse',\n",
       "  'Such as',\n",
       "  'watch',\n",
       "  'I want',\n",
       "  4,\n",
       "  'What is the meaning of أتفقنا ?',\n",
       "  'purple',\n",
       "  'We agreed',\n",
       "  'Can',\n",
       "  'yellow',\n",
       "  2],\n",
       " ['What is the meaning of لمقابلة ?',\n",
       "  'To meet',\n",
       "  'potato',\n",
       "  'If',\n",
       "  'decide',\n",
       "  1,\n",
       "  'What is the meaning of صباح ?',\n",
       "  'love',\n",
       "  'red',\n",
       "  'ask',\n",
       "  'Morning',\n",
       "  4,\n",
       "  'What is the meaning of وهذا ?',\n",
       "  'Those',\n",
       "  'egypt',\n",
       "  'And this',\n",
       "  'mango',\n",
       "  3,\n",
       "  'What is the meaning of عائلة ?',\n",
       "  'die',\n",
       "  'get',\n",
       "  'tomato',\n",
       "  'Family',\n",
       "  4,\n",
       "  'What is the meaning of الأم ?',\n",
       "  'cow',\n",
       "  'lead',\n",
       "  'allow',\n",
       "  'The mother',\n",
       "  4],\n",
       " ['What is the meaning of صباح ?',\n",
       "  'Those',\n",
       "  'Morning',\n",
       "  'sit',\n",
       "  'pass',\n",
       "  2,\n",
       "  'What is the meaning of ماذا ?',\n",
       "  'Is',\n",
       "  'bring',\n",
       "  'What',\n",
       "  'Was',\n",
       "  3,\n",
       "  'What is the meaning of جديد ?',\n",
       "  'New',\n",
       "  'tomato',\n",
       "  'die',\n",
       "  'have',\n",
       "  1,\n",
       "  'What is the meaning of في ?',\n",
       "  'Person',\n",
       "  'In',\n",
       "  'With',\n",
       "  'chair',\n",
       "  2],\n",
       " ['What is the meaning of وزوجته ?',\n",
       "  'zucchini',\n",
       "  'come',\n",
       "  'show',\n",
       "  'And His Wife',\n",
       "  4,\n",
       "  'What is the meaning of في ?',\n",
       "  'dog',\n",
       "  'lime',\n",
       "  'In',\n",
       "  'mouse',\n",
       "  3,\n",
       "  'What is the meaning of لا ?',\n",
       "  'pea',\n",
       "  'like',\n",
       "  'No',\n",
       "  'peach',\n",
       "  3,\n",
       "  'What is the meaning of في ?',\n",
       "  'turn',\n",
       "  'In',\n",
       "  'Now',\n",
       "  'think',\n",
       "  2],\n",
       " ['What is the meaning of أحتاج ?',\n",
       "  'red',\n",
       "  \"I'm not\",\n",
       "  'I need',\n",
       "  'Come',\n",
       "  3,\n",
       "  'What is the meaning of تشتري ?',\n",
       "  'bee',\n",
       "  'kiwi',\n",
       "  'There',\n",
       "  'Buy',\n",
       "  4,\n",
       "  'What is the meaning of النقود ?',\n",
       "  'cucumber',\n",
       "  'egypt',\n",
       "  'help',\n",
       "  'Money',\n",
       "  4,\n",
       "  'What is the meaning of شكرًا ?',\n",
       "  'Thanks',\n",
       "  'camel',\n",
       "  'black',\n",
       "  'lime',\n",
       "  1,\n",
       "  'What is the meaning of الأفلام ?',\n",
       "  'Movies',\n",
       "  'Or',\n",
       "  'goat',\n",
       "  'move',\n",
       "  1],\n",
       " ['What is the meaning of المتحف ?',\n",
       "  'fish',\n",
       "  'follow',\n",
       "  'The Museum',\n",
       "  'use',\n",
       "  3,\n",
       "  'What is the meaning of الصورة ?',\n",
       "  'horse',\n",
       "  'dinosaur',\n",
       "  'purple',\n",
       "  'Picture',\n",
       "  4,\n",
       "  'What is the meaning of ينظر ?',\n",
       "  'stand',\n",
       "  'Looking',\n",
       "  'spend',\n",
       "  'need',\n",
       "  2,\n",
       "  'What is the meaning of الجد ?',\n",
       "  'Or',\n",
       "  'The Grandfather',\n",
       "  'stand',\n",
       "  'Was',\n",
       "  2],\n",
       " ['What is the meaning of ملابس ?',\n",
       "  'Clothes',\n",
       "  'white',\n",
       "  'have',\n",
       "  'Must',\n",
       "  1,\n",
       "  'What is the meaning of هذا ?',\n",
       "  'Only',\n",
       "  'For',\n",
       "  'This',\n",
       "  'egypt',\n",
       "  3,\n",
       "  'What is the meaning of غالي ?',\n",
       "  'stay',\n",
       "  'Expensive',\n",
       "  'cherry',\n",
       "  'clock',\n",
       "  2,\n",
       "  'What is the meaning of نعم ?',\n",
       "  'Such as',\n",
       "  'know',\n",
       "  'think',\n",
       "  'Yes',\n",
       "  4],\n",
       " ['What is the meaning of أخيها ?',\n",
       "  'lime',\n",
       "  'Her Brother',\n",
       "  'This',\n",
       "  'hear',\n",
       "  2,\n",
       "  'What is the meaning of من ?',\n",
       "  'tomato',\n",
       "  'I want',\n",
       "  'rabbit',\n",
       "  'From',\n",
       "  4,\n",
       "  'What is the meaning of تفاحات ?',\n",
       "  'remain',\n",
       "  'Apples',\n",
       "  'monkey',\n",
       "  'peacock',\n",
       "  2,\n",
       "  'What is the meaning of ولبن ?',\n",
       "  'When',\n",
       "  'And Milk',\n",
       "  'carrot',\n",
       "  'run',\n",
       "  2,\n",
       "  'What is the meaning of خبز ?',\n",
       "  'banana',\n",
       "  'Bread',\n",
       "  'Not',\n",
       "  'butterfly',\n",
       "  2],\n",
       " ['What is the meaning of في ?',\n",
       "  'add',\n",
       "  'When',\n",
       "  'In',\n",
       "  'find',\n",
       "  3,\n",
       "  'What is the meaning of معذرة ?',\n",
       "  'Excuse me',\n",
       "  'potato',\n",
       "  'lead',\n",
       "  'gray',\n",
       "  1]]"
      ]
     },
     "execution_count": 79,
     "metadata": {},
     "output_type": "execute_result"
    }
   ],
   "source": [
    "x"
   ]
  },
  {
   "cell_type": "code",
   "execution_count": 71,
   "metadata": {},
   "outputs": [
    {
     "data": {
      "text/plain": [
       "[[['What is the meaning of أبي ?',\n",
       "   'My father',\n",
       "   'cat',\n",
       "   'follow',\n",
       "   'consider',\n",
       "   1],\n",
       "  ['What is the meaning of كافي ?', 'Enough', 'start', 'corn', 'try', 1],\n",
       "  ['What is the meaning of سيارة ?', 'car', 'pigeon', 'donkey', 'cabbage', 1],\n",
       "  ['What is the meaning of نحتاج ?',\n",
       "   'We need',\n",
       "   'panda',\n",
       "   'rhinoceros',\n",
       "   'lime',\n",
       "   1]],\n",
       " [['What is the meaning of سؤال ?', 'sell', 'dolphin', 'love', 'Question', 4],\n",
       "  ['What is the meaning of الأب ?', 'coconut', 'pear', 'Father', 'For', 3],\n",
       "  ['What is the meaning of أريد ?', 'mouse', 'Such as', 'watch', 'I want', 4],\n",
       "  ['What is the meaning of أتفقنا ?',\n",
       "   'purple',\n",
       "   'We agreed',\n",
       "   'Can',\n",
       "   'yellow',\n",
       "   2]],\n",
       " [['What is the meaning of لمقابلة ?', 'To meet', 'potato', 'If', 'decide', 1],\n",
       "  ['What is the meaning of صباح ?', 'love', 'red', 'ask', 'Morning', 4],\n",
       "  ['What is the meaning of وهذا ?', 'Those', 'egypt', 'And this', 'mango', 3],\n",
       "  ['What is the meaning of عائلة ?', 'die', 'get', 'tomato', 'Family', 4],\n",
       "  ['What is the meaning of الأم ?', 'cow', 'lead', 'allow', 'The mother', 4]],\n",
       " [['What is the meaning of صباح ?', 'Those', 'Morning', 'sit', 'pass', 2],\n",
       "  ['What is the meaning of ماذا ?', 'Is', 'bring', 'What', 'Was', 3],\n",
       "  ['What is the meaning of جديد ?', 'New', 'tomato', 'die', 'have', 1],\n",
       "  ['What is the meaning of في ?', 'Person', 'In', 'With', 'chair', 2]],\n",
       " [['What is the meaning of وزوجته ?',\n",
       "   'zucchini',\n",
       "   'come',\n",
       "   'show',\n",
       "   'And His Wife',\n",
       "   4],\n",
       "  ['What is the meaning of في ?', 'dog', 'lime', 'In', 'mouse', 3],\n",
       "  ['What is the meaning of لا ?', 'pea', 'like', 'No', 'peach', 3],\n",
       "  ['What is the meaning of في ?', 'turn', 'In', 'Now', 'think', 2]],\n",
       " [['What is the meaning of أحتاج ?', 'red', \"I'm not\", 'I need', 'Come', 3],\n",
       "  ['What is the meaning of تشتري ?', 'bee', 'kiwi', 'There', 'Buy', 4],\n",
       "  ['What is the meaning of النقود ?', 'cucumber', 'egypt', 'help', 'Money', 4],\n",
       "  ['What is the meaning of شكرًا ?', 'Thanks', 'camel', 'black', 'lime', 1],\n",
       "  ['What is the meaning of الأفلام ?', 'Movies', 'Or', 'goat', 'move', 1]],\n",
       " [['What is the meaning of المتحف ?',\n",
       "   'fish',\n",
       "   'follow',\n",
       "   'The Museum',\n",
       "   'use',\n",
       "   3],\n",
       "  ['What is the meaning of الصورة ?',\n",
       "   'horse',\n",
       "   'dinosaur',\n",
       "   'purple',\n",
       "   'Picture',\n",
       "   4],\n",
       "  ['What is the meaning of ينظر ?', 'stand', 'Looking', 'spend', 'need', 2],\n",
       "  ['What is the meaning of الجد ?',\n",
       "   'Or',\n",
       "   'The Grandfather',\n",
       "   'stand',\n",
       "   'Was',\n",
       "   2]],\n",
       " [['What is the meaning of ملابس ?', 'Clothes', 'white', 'have', 'Must', 1],\n",
       "  ['What is the meaning of هذا ?', 'Only', 'For', 'This', 'egypt', 3],\n",
       "  ['What is the meaning of غالي ?', 'stay', 'Expensive', 'cherry', 'clock', 2],\n",
       "  ['What is the meaning of نعم ?', 'Such as', 'know', 'think', 'Yes', 4]],\n",
       " [['What is the meaning of أخيها ?', 'lime', 'Her Brother', 'This', 'hear', 2],\n",
       "  ['What is the meaning of من ?', 'tomato', 'I want', 'rabbit', 'From', 4],\n",
       "  ['What is the meaning of تفاحات ?',\n",
       "   'remain',\n",
       "   'Apples',\n",
       "   'monkey',\n",
       "   'peacock',\n",
       "   2],\n",
       "  ['What is the meaning of ولبن ?', 'When', 'And Milk', 'carrot', 'run', 2],\n",
       "  ['What is the meaning of خبز ?', 'banana', 'Bread', 'Not', 'butterfly', 2]],\n",
       " [['What is the meaning of في ?', 'add', 'When', 'In', 'find', 3],\n",
       "  ['What is the meaning of معذرة ?',\n",
       "   'Excuse me',\n",
       "   'potato',\n",
       "   'lead',\n",
       "   'gray',\n",
       "   1]]]"
      ]
     },
     "execution_count": 71,
     "metadata": {},
     "output_type": "execute_result"
    }
   ],
   "source": [
    "all_questions"
   ]
  },
  {
   "cell_type": "code",
   "execution_count": 34,
   "metadata": {},
   "outputs": [
    {
     "data": {
      "text/plain": [
       "[['What is the meaning of أخيها ?',\n",
       "  'brother',\n",
       "  'rat',\n",
       "  'live',\n",
       "  'pomegranate',\n",
       "  0],\n",
       " ['What is the meaning of أأكل ?', 'egypt', 'turn', 'eat', 'know', 2],\n",
       " ['What is the meaning of فضلك ?', 'please', 'continue', 'zucchini', 'It', 0],\n",
       " ['What is the meaning of مروة ?', 'marwa', 'coconut', 'pass', 'mushroom', 0],\n",
       " ['What is the meaning of أيضاً ?', 'grow', 'learn', 'also', 'A', 2],\n",
       " ['What is the meaning of النقود ?', 'money', 'plum', 'appear', 'sell', 0]]"
      ]
     },
     "execution_count": 34,
     "metadata": {},
     "output_type": "execute_result"
    }
   ],
   "source": [
    "all_questions[0]"
   ]
  },
  {
   "cell_type": "code",
   "execution_count": null,
   "metadata": {},
   "outputs": [],
   "source": [
    "#insert the new paragraph, and it's questions"
   ]
  },
  {
   "cell_type": "code",
   "execution_count": 58,
   "metadata": {},
   "outputs": [
    {
     "data": {
      "text/plain": [
       "2866"
      ]
     },
     "execution_count": 58,
     "metadata": {},
     "output_type": "execute_result"
    }
   ],
   "source": [
    "#inserts the paragraph\n",
    "new_item = (open('./story-context.js').read().replace(\"const storyTexts = [\\n\",\"const storyTexts = [\\n\"+str(adjusted_paragraph)+\",\\n\\n\"))\n",
    "open('./story-context.js','w').write(new_item)"
   ]
  },
  {
   "cell_type": "code",
   "execution_count": 19,
   "metadata": {},
   "outputs": [],
   "source": [
    "def flatten(l):\n",
    "    ret = []\n",
    "    for i in l:\n",
    "        ret.extend(i)\n",
    "    return ret"
   ]
  },
  {
   "cell_type": "code",
   "execution_count": 59,
   "metadata": {},
   "outputs": [
    {
     "data": {
      "text/plain": [
       "3307"
      ]
     },
     "execution_count": 59,
     "metadata": {},
     "output_type": "execute_result"
    }
   ],
   "source": [
    "#inserts the new questions\n",
    "new_q_item = open('./story-context.js').read().replace(\"const storyQuestions =  [\\n\",\"const storyQuestions =  [\\n\"+str(flatten(all_questions[0]))+\",\\n\\n\")\n",
    "open('./story-context.js','w').write(new_q_item)"
   ]
  },
  {
   "cell_type": "code",
   "execution_count": null,
   "metadata": {},
   "outputs": [],
   "source": []
  },
  {
   "cell_type": "code",
   "execution_count": null,
   "metadata": {},
   "outputs": [],
   "source": []
  },
  {
   "cell_type": "code",
   "execution_count": 60,
   "metadata": {},
   "outputs": [
    {
     "data": {
      "text/plain": [
       "['منة في المتحف مع جدها.',\n",
       " 'منة: إن هذا المتحف رائع، يوجد به صور كثيرة من الماضي.',\n",
       " 'الجد: نعم، هذه الصورة في مصر في مدينة الإسكندرية.',\n",
       " 'منة: لا يوجد سيارات!',\n",
       " 'منة: وفي هذه الصورة يوجد طلبة في كلية الطب.',\n",
       " 'الجد: نعم، في جامعة الإسكندرية.',\n",
       " 'منة: يوجد سيدة واحدة فقط في هذه الصورة.',\n",
       " 'منة: تبدو ذكية جدًا، ومهمة جدًا.',\n",
       " 'الجد ينظر إلى الصورة ولا يتحدث.',\n",
       " 'منة: جدي؟',\n",
       " 'الجد: إنها حسناء للغاية.',\n",
       " 'منة: إنها بالفعل جميلة جدًا.',\n",
       " 'الجد: إنها جدتي.',\n",
       " 'منة: يا إلهي! إن عائلتي حقًا عظيمة.']"
      ]
     },
     "execution_count": 60,
     "metadata": {},
     "output_type": "execute_result"
    }
   ],
   "source": [
    "[ 'منة في المتحف مع جدها.',\n",
    "\n",
    "'منة: إن هذا المتحف رائع، يوجد به صور كثيرة من الماضي.',\n",
    "\n",
    "'الجد: نعم، هذه الصورة في مصر في مدينة الإسكندرية.',\n",
    "\n",
    "'منة: لا يوجد سيارات!',\n",
    "\n",
    "'منة: وفي هذه الصورة يوجد طلبة في كلية الطب.',\n",
    "\n",
    "'الجد: نعم، في جامعة الإسكندرية.',\n",
    "\n",
    "'منة: يوجد سيدة واحدة فقط في هذه الصورة.',\n",
    "\n",
    "'منة: تبدو ذكية جدًا، ومهمة جدًا.',\n",
    "\n",
    "'الجد ينظر إلى الصورة ولا يتحدث.',\n",
    "\n",
    "'منة: جدي؟',\n",
    "\n",
    "'الجد: إنها حسناء للغاية.',\n",
    "\n",
    "'منة: إنها بالفعل جميلة جدًا.',\n",
    "\n",
    "'الجد: إنها جدتي.',\n",
    "\n",
    "'منة: يا إلهي! إن عائلتي حقًا عظيمة.' ]\n"
   ]
  },
  {
   "cell_type": "code",
   "execution_count": null,
   "metadata": {},
   "outputs": [],
   "source": []
  },
  {
   "cell_type": "code",
   "execution_count": null,
   "metadata": {},
   "outputs": [],
   "source": []
  },
  {
   "cell_type": "code",
   "execution_count": 69,
   "metadata": {
    "collapsed": true
   },
   "outputs": [
    {
     "data": {
      "text/plain": [
       "[[['What is the meaning of أبي ?',\n",
       "   'My father',\n",
       "   'cat',\n",
       "   'follow',\n",
       "   'consider',\n",
       "   1],\n",
       "  ['What is the meaning of كافي ?', 'Enough', 'start', 'corn', 'try', 1],\n",
       "  ['What is the meaning of سيارة ?', 'car', 'pigeon', 'donkey', 'cabbage', 1],\n",
       "  ['What is the meaning of نحتاج ?',\n",
       "   'We need',\n",
       "   'panda',\n",
       "   'rhinoceros',\n",
       "   'lime',\n",
       "   1]],\n",
       " [['What is the meaning of سؤال ?', 'sell', 'dolphin', 'love', 'Question', 4],\n",
       "  ['What is the meaning of الأب ?', 'coconut', 'pear', 'Father', 'For', 3],\n",
       "  ['What is the meaning of أريد ?', 'mouse', 'Such as', 'watch', 'I want', 4],\n",
       "  ['What is the meaning of أتفقنا ?',\n",
       "   'purple',\n",
       "   'We agreed',\n",
       "   'Can',\n",
       "   'yellow',\n",
       "   2]],\n",
       " [['What is the meaning of لمقابلة ?', 'To meet', 'potato', 'If', 'decide', 1],\n",
       "  ['What is the meaning of صباح ?', 'love', 'red', 'ask', 'Morning', 4],\n",
       "  ['What is the meaning of وهذا ?', 'Those', 'egypt', 'And this', 'mango', 3],\n",
       "  ['What is the meaning of عائلة ?', 'die', 'get', 'tomato', 'Family', 4],\n",
       "  ['What is the meaning of الأم ?', 'cow', 'lead', 'allow', 'The mother', 4]],\n",
       " [['What is the meaning of صباح ?', 'Those', 'Morning', 'sit', 'pass', 2],\n",
       "  ['What is the meaning of ماذا ?', 'Is', 'bring', 'What', 'Was', 3],\n",
       "  ['What is the meaning of جديد ?', 'New', 'tomato', 'die', 'have', 1],\n",
       "  ['What is the meaning of في ?', 'Person', 'In', 'With', 'chair', 2]],\n",
       " [['What is the meaning of وزوجته ?',\n",
       "   'zucchini',\n",
       "   'come',\n",
       "   'show',\n",
       "   'And His Wife',\n",
       "   4],\n",
       "  ['What is the meaning of في ?', 'dog', 'lime', 'In', 'mouse', 3],\n",
       "  ['What is the meaning of لا ?', 'pea', 'like', 'No', 'peach', 3],\n",
       "  ['What is the meaning of في ?', 'turn', 'In', 'Now', 'think', 2]],\n",
       " [['What is the meaning of أحتاج ?', 'red', \"I'm not\", 'I need', 'Come', 3],\n",
       "  ['What is the meaning of تشتري ?', 'bee', 'kiwi', 'There', 'Buy', 4],\n",
       "  ['What is the meaning of النقود ?', 'cucumber', 'egypt', 'help', 'Money', 4],\n",
       "  ['What is the meaning of شكرًا ?', 'Thanks', 'camel', 'black', 'lime', 1],\n",
       "  ['What is the meaning of الأفلام ?', 'Movies', 'Or', 'goat', 'move', 1]],\n",
       " [['What is the meaning of المتحف ?',\n",
       "   'fish',\n",
       "   'follow',\n",
       "   'The Museum',\n",
       "   'use',\n",
       "   3],\n",
       "  ['What is the meaning of الصورة ?',\n",
       "   'horse',\n",
       "   'dinosaur',\n",
       "   'purple',\n",
       "   'Picture',\n",
       "   4],\n",
       "  ['What is the meaning of ينظر ?', 'stand', 'Looking', 'spend', 'need', 2],\n",
       "  ['What is the meaning of الجد ?',\n",
       "   'Or',\n",
       "   'The Grandfather',\n",
       "   'stand',\n",
       "   'Was',\n",
       "   2]],\n",
       " [['What is the meaning of ملابس ?', 'Clothes', 'white', 'have', 'Must', 1],\n",
       "  ['What is the meaning of هذا ?', 'Only', 'For', 'This', 'egypt', 3],\n",
       "  ['What is the meaning of غالي ?', 'stay', 'Expensive', 'cherry', 'clock', 2],\n",
       "  ['What is the meaning of نعم ?', 'Such as', 'know', 'think', 'Yes', 4]],\n",
       " [['What is the meaning of أخيها ?', 'lime', 'Her Brother', 'This', 'hear', 2],\n",
       "  ['What is the meaning of من ?', 'tomato', 'I want', 'rabbit', 'From', 4],\n",
       "  ['What is the meaning of تفاحات ?',\n",
       "   'remain',\n",
       "   'Apples',\n",
       "   'monkey',\n",
       "   'peacock',\n",
       "   2],\n",
       "  ['What is the meaning of ولبن ?', 'When', 'And Milk', 'carrot', 'run', 2],\n",
       "  ['What is the meaning of خبز ?', 'banana', 'Bread', 'Not', 'butterfly', 2]],\n",
       " [['What is the meaning of في ?', 'add', 'When', 'In', 'find', 3],\n",
       "  ['What is the meaning of معذرة ?',\n",
       "   'Excuse me',\n",
       "   'potato',\n",
       "   'lead',\n",
       "   'gray',\n",
       "   1]]]"
      ]
     },
     "execution_count": 69,
     "metadata": {},
     "output_type": "execute_result"
    }
   ],
   "source": [
    "all_questions"
   ]
  },
  {
   "cell_type": "code",
   "execution_count": 70,
   "metadata": {},
   "outputs": [
    {
     "data": {
      "text/plain": [
       "[[0, 4, 8, 12],\n",
       " [0, 4, 8, 12],\n",
       " [0, 4, 8, 12, 16],\n",
       " [0, 4, 8, 12],\n",
       " [0, 4, 8, 12],\n",
       " [0, 4, 8, 12, 16],\n",
       " [0, 4, 8, 12],\n",
       " [0, 4, 8, 12],\n",
       " [0, 4, 8, 12, 16],\n",
       " [0, 4]]"
      ]
     },
     "execution_count": 70,
     "metadata": {},
     "output_type": "execute_result"
    }
   ],
   "source": [
    "all_questions_q_indices"
   ]
  },
  {
   "cell_type": "code",
   "execution_count": 8,
   "metadata": {},
   "outputs": [],
   "source": [
    "n = ['منى ذاهبة لمقابلة عائلة سلمى.','الأم: سلمى! أبنتي المفضلة!','سلمى: هاها، ولكن يا أمي، أنتي لديكي أبنة واحدة فقط!','سلمى: هذه صديقتي منى.','منى: صباح الخير!','سلمى: منى، هذا هو أخي الصغير، محمد.','منى: أهلاً يا محمد.','سلمى: وهذا هو جدي.','سلمى: وهذا هو والدي، وهذا هو أخي الكبير.','منى: أهلاً بكم، تشرفت بلقائكم!','سلمى: وهؤلاء هم بنات عمي سهيلة وإيمان.','منى: أهلًا سهيلة، أهلًا إيمان.','منى: لديكي عائلة كبيرة جداً!','الأم: ولكن عندي بنت واحدة فقط!','سلمى: ولكن يا ماما!','الأم: أعتذر! الآن لدي بنتان! سلمى ومنى!','الأم: أهلاً بكي في العائلة يا منى.','منى: شكراً!']"
   ]
  },
  {
   "cell_type": "code",
   "execution_count": 10,
   "metadata": {},
   "outputs": [],
   "source": [
    "story_texts = [n]"
   ]
  },
  {
   "cell_type": "code",
   "execution_count": 30,
   "metadata": {},
   "outputs": [],
   "source": [
    "x = []\n",
    "for para in story_texts[0]:\n",
    "    x.append([ [i] for i in para.split() ])"
   ]
  },
  {
   "cell_type": "code",
   "execution_count": 31,
   "metadata": {},
   "outputs": [
    {
     "data": {
      "text/plain": [
       "[[['منى'], ['ذاهبة'], ['لمقابلة'], ['عائلة'], ['سلمى.']],\n",
       " [['الأم:'], ['سلمى!'], ['أبنتي'], ['المفضلة!']],\n",
       " [['سلمى:'],\n",
       "  ['هاها،'],\n",
       "  ['ولكن'],\n",
       "  ['يا'],\n",
       "  ['أمي،'],\n",
       "  ['أنتي'],\n",
       "  ['لديكي'],\n",
       "  ['أبنة'],\n",
       "  ['واحدة'],\n",
       "  ['فقط!']],\n",
       " [['سلمى:'], ['هذه'], ['صديقتي'], ['منى.']],\n",
       " [['منى:'], ['صباح'], ['الخير!']],\n",
       " [['سلمى:'], ['منى،'], ['هذا'], ['هو'], ['أخي'], ['الصغير،'], ['محمد.']],\n",
       " [['منى:'], ['أهلاً'], ['يا'], ['محمد.']],\n",
       " [['سلمى:'], ['وهذا'], ['هو'], ['جدي.']],\n",
       " [['سلمى:'],\n",
       "  ['وهذا'],\n",
       "  ['هو'],\n",
       "  ['والدي،'],\n",
       "  ['وهذا'],\n",
       "  ['هو'],\n",
       "  ['أخي'],\n",
       "  ['الكبير.']],\n",
       " [['منى:'], ['أهلاً'], ['بكم،'], ['تشرفت'], ['بلقائكم!']],\n",
       " [['سلمى:'], ['وهؤلاء'], ['هم'], ['بنات'], ['عمي'], ['سهيلة'], ['وإيمان.']],\n",
       " [['منى:'], ['أهلًا'], ['سهيلة،'], ['أهلًا'], ['إيمان.']],\n",
       " [['منى:'], ['لديكي'], ['عائلة'], ['كبيرة'], ['جداً!']],\n",
       " [['الأم:'], ['ولكن'], ['عندي'], ['بنت'], ['واحدة'], ['فقط!']],\n",
       " [['سلمى:'], ['ولكن'], ['يا'], ['ماما!']],\n",
       " [['الأم:'], ['أعتذر!'], ['الآن'], ['لدي'], ['بنتان!'], ['سلمى'], ['ومنى!']],\n",
       " [['الأم:'], ['أهلاً'], ['بكي'], ['في'], ['العائلة'], ['يا'], ['منى.']],\n",
       " [['منى:'], ['شكراً!']]]"
      ]
     },
     "execution_count": 31,
     "metadata": {},
     "output_type": "execute_result"
    }
   ],
   "source": []
  },
  {
   "cell_type": "code",
   "execution_count": 28,
   "metadata": {},
   "outputs": [
    {
     "data": {
      "text/plain": [
       "[['منى', 'ذاهبة', 'لمقابلة', 'عائلة', 'سلمى.'],\n",
       " ['الأم:', 'سلمى!', 'أبنتي', 'المفضلة!'],\n",
       " ['سلمى:',\n",
       "  'هاها،',\n",
       "  'ولكن',\n",
       "  'يا',\n",
       "  'أمي،',\n",
       "  'أنتي',\n",
       "  'لديكي',\n",
       "  'أبنة',\n",
       "  'واحدة',\n",
       "  'فقط!'],\n",
       " ['سلمى:', 'هذه', 'صديقتي', 'منى.'],\n",
       " ['منى:', 'صباح', 'الخير!'],\n",
       " ['سلمى:', 'منى،', 'هذا', 'هو', 'أخي', 'الصغير،', 'محمد.'],\n",
       " ['منى:', 'أهلاً', 'يا', 'محمد.'],\n",
       " ['سلمى:', 'وهذا', 'هو', 'جدي.'],\n",
       " ['سلمى:', 'وهذا', 'هو', 'والدي،', 'وهذا', 'هو', 'أخي', 'الكبير.'],\n",
       " ['منى:', 'أهلاً', 'بكم،', 'تشرفت', 'بلقائكم!'],\n",
       " ['سلمى:', 'وهؤلاء', 'هم', 'بنات', 'عمي', 'سهيلة', 'وإيمان.'],\n",
       " ['منى:', 'أهلًا', 'سهيلة،', 'أهلًا', 'إيمان.'],\n",
       " ['منى:', 'لديكي', 'عائلة', 'كبيرة', 'جداً!'],\n",
       " ['الأم:', 'ولكن', 'عندي', 'بنت', 'واحدة', 'فقط!'],\n",
       " ['سلمى:', 'ولكن', 'يا', 'ماما!'],\n",
       " ['الأم:', 'أعتذر!', 'الآن', 'لدي', 'بنتان!', 'سلمى', 'ومنى!'],\n",
       " ['الأم:', 'أهلاً', 'بكي', 'في', 'العائلة', 'يا', 'منى.'],\n",
       " ['منى:', 'شكراً!']]"
      ]
     },
     "execution_count": 28,
     "metadata": {},
     "output_type": "execute_result"
    }
   ],
   "source": [
    "x"
   ]
  },
  {
   "cell_type": "code",
   "execution_count": 13,
   "metadata": {},
   "outputs": [
    {
     "name": "stdout",
     "output_type": "stream",
     "text": [
      "منى ذاهبة لمقابلة عائلة سلمى\n",
      "لمقابلةno\n",
      "منى ذاهبة لمقابلة عائلة سلمى\n",
      "منىno\n",
      "منى ذاهبة لمقابلة عائلة سلمى\n",
      "سلمىno\n",
      "منى ذاهبة لمقابلة عائلة سلمى\n",
      "لمقابلةno\n",
      "منى ذاهبة لمقابلة عائلة سلمى\n",
      "لمقابلةno\n",
      "منى ذاهبة لمقابلة عائلة سلمى\n",
      "لمقابلةno\n",
      "منى ذاهبة لمقابلة عائلة سلمى\n",
      "منىno\n",
      "منى ذاهبة لمقابلة عائلة سلمى\n",
      "لمقابلةno\n",
      "منى ذاهبة لمقابلة عائلة سلمى\n",
      "عائلة\n",
      "enter the answerfamily\n",
      "منى صباح الخير\n",
      "منىno\n",
      "منى صباح الخير\n",
      "منىno\n",
      "منى صباح الخير\n",
      "منىno\n",
      "منى صباح الخير\n",
      "منىno\n",
      "منى صباح الخير\n",
      "منىno\n",
      "منى صباح الخير\n",
      "صباح\n",
      "enter the answermorning\n",
      "سلمى وهذا هو والدي وهذا هو أخي الكبير\n",
      "هوno\n",
      "سلمى وهذا هو والدي وهذا هو أخي الكبير\n",
      "هوno\n",
      "سلمى وهذا هو والدي وهذا هو أخي الكبير\n",
      "الكبيرno\n",
      "سلمى وهذا هو والدي وهذا هو أخي الكبير\n",
      "وهذاno\n",
      "سلمى وهذا هو والدي وهذا هو أخي الكبير\n",
      "وهذاno\n",
      "سلمى وهذا هو والدي وهذا هو أخي الكبير\n",
      "هوno\n",
      "سلمى وهذا هو والدي وهذا هو أخي الكبير\n",
      "وهذاno\n",
      "سلمى وهذا هو والدي وهذا هو أخي الكبير\n",
      "أخي\n",
      "enter the answermy brother\n",
      "منى لديكي عائلة كبيرة جداً\n",
      "منىno\n",
      "منى لديكي عائلة كبيرة جداً\n",
      "عائلةno\n",
      "منى لديكي عائلة كبيرة جداً\n",
      "منىno\n",
      "منى لديكي عائلة كبيرة جداً\n",
      "كبيرةno\n",
      "منى لديكي عائلة كبيرة جداً\n",
      "منىno\n",
      "منى لديكي عائلة كبيرة جداً\n",
      "عائلةno\n",
      "منى لديكي عائلة كبيرة جداً\n",
      "منىno\n",
      "منى لديكي عائلة كبيرة جداً\n",
      "لديكيno\n",
      "منى لديكي عائلة كبيرة جداً\n",
      "جداً\n",
      "enter the answervery\n",
      "الأم أهلاً بكي في العائلة يا منى\n",
      "أهلاً\n",
      "enter the answerwelcome\n"
     ]
    }
   ],
   "source": [
    "import numpy as np\n",
    "#in the end i'll have a list of qs, and a list of indices on the paragraph list which the questions fall on\n",
    "eng_vocab_list = list(flat_vocab.keys())\n",
    "all_questions = []\n",
    "all_questions_q_indices = []\n",
    "\n",
    "for story_counter, story in enumerate(story_texts):\n",
    "    story =[m for m in story if m!='s']\n",
    "    current_story_questions = []\n",
    "    q_indices = []\n",
    "    for paragraph_counter, paragraph in enumerate(story):\n",
    "        if paragraph=='s':\n",
    "            continue\n",
    "        if paragraph_counter%4==0:\n",
    "            q_indices.append(paragraph_counter)\n",
    "            clean_para = paragraph.translate(str.maketrans('', '', string.punctuation))\n",
    "            clean_para = clean_para.replace(\"؟\",'')\n",
    "            clean_para = clean_para.replace(\"،\",'')\n",
    "            inp = False\n",
    "            while inp!='':\n",
    "                if inp=='bad paragraph':\n",
    "                    pass\n",
    "                    #TODO\n",
    "                    #inc and dec the counter logic\n",
    "                print(clean_para)\n",
    "                c = np.random.choice(clean_para.split())\n",
    "                inp = input(c)\n",
    "                q_list = []\n",
    "                choices_list = []\n",
    "                if inp == '':\n",
    "                    ans = input(\"enter the answer\")\n",
    "                    q_list.append(\"What is the meaning of {} ?\".format(c))\n",
    "                    u = [ans] + list(np.random.choice(eng_vocab_list,3,replace=False))\n",
    "                    np.random.shuffle(u)\n",
    "                    ans_ind = u.index(ans)+1\n",
    "                    q_list.extend(u)\n",
    "                    q_list.extend([ans_ind])\n",
    "                    current_story_questions.append(q_list)\n",
    "    all_questions.append(current_story_questions)\n",
    "    all_questions_q_indices.append(q_indices)"
   ]
  },
  {
   "cell_type": "code",
   "execution_count": null,
   "metadata": {},
   "outputs": [],
   "source": []
  },
  {
   "cell_type": "code",
   "execution_count": 21,
   "metadata": {},
   "outputs": [],
   "source": [
    "l = flatten(all_questions[0])"
   ]
  },
  {
   "cell_type": "code",
   "execution_count": 22,
   "metadata": {},
   "outputs": [
    {
     "data": {
      "text/plain": [
       "['What is the meaning of عائلة ?',\n",
       " 'snake',\n",
       " 'family',\n",
       " 'strong',\n",
       " 'feel',\n",
       " 2,\n",
       " 'What is the meaning of صباح ?',\n",
       " 'crocodile',\n",
       " 'make',\n",
       " 'turtle',\n",
       " 'morning',\n",
       " 4,\n",
       " 'What is the meaning of أخي ?',\n",
       " 'bird',\n",
       " 'my brother',\n",
       " 'hedgehog',\n",
       " 'write',\n",
       " 2,\n",
       " 'What is the meaning of جداً ?',\n",
       " 'chicken',\n",
       " 'very',\n",
       " 'spinach',\n",
       " 'hedgehog',\n",
       " 2,\n",
       " 'What is the meaning of أهلاً ?',\n",
       " 'welcome',\n",
       " 'pepper',\n",
       " 'sing',\n",
       " 'black',\n",
       " 1]"
      ]
     },
     "execution_count": 22,
     "metadata": {},
     "output_type": "execute_result"
    }
   ],
   "source": [
    "l"
   ]
  },
  {
   "cell_type": "code",
   "execution_count": null,
   "metadata": {},
   "outputs": [],
   "source": []
  },
  {
   "cell_type": "code",
   "execution_count": null,
   "metadata": {},
   "outputs": [],
   "source": []
  },
  {
   "cell_type": "code",
   "execution_count": null,
   "metadata": {},
   "outputs": [],
   "source": []
  },
  {
   "cell_type": "code",
   "execution_count": null,
   "metadata": {},
   "outputs": [],
   "source": []
  },
  {
   "cell_type": "code",
   "execution_count": 94,
   "metadata": {},
   "outputs": [
    {
     "data": {
      "text/plain": [
       "['What is the meaning of story ?', 'remember', 'efe', 'appear', 'offer', 1]"
      ]
     },
     "execution_count": 94,
     "metadata": {},
     "output_type": "execute_result"
    }
   ],
   "source": [
    "q_list"
   ]
  },
  {
   "cell_type": "code",
   "execution_count": null,
   "metadata": {},
   "outputs": [],
   "source": []
  },
  {
   "cell_type": "code",
   "execution_count": 84,
   "metadata": {},
   "outputs": [
    {
     "data": {
      "text/plain": [
       "['Here', 'kill', '', 'Only']"
      ]
     },
     "execution_count": 84,
     "metadata": {},
     "output_type": "execute_result"
    }
   ],
   "source": [
    "u"
   ]
  },
  {
   "cell_type": "code",
   "execution_count": 80,
   "metadata": {},
   "outputs": [],
   "source": [
    "x.extend([6])"
   ]
  },
  {
   "cell_type": "code",
   "execution_count": null,
   "metadata": {},
   "outputs": [],
   "source": []
  },
  {
   "cell_type": "code",
   "execution_count": null,
   "metadata": {},
   "outputs": [],
   "source": []
  },
  {
   "cell_type": "code",
   "execution_count": null,
   "metadata": {},
   "outputs": [],
   "source": []
  },
  {
   "cell_type": "code",
   "execution_count": null,
   "metadata": {},
   "outputs": [],
   "source": []
  },
  {
   "cell_type": "code",
   "execution_count": 80,
   "metadata": {},
   "outputs": [
    {
     "data": {
      "text/plain": [
       "['paragraph3', 'for', 'story', '3']"
      ]
     },
     "execution_count": 80,
     "metadata": {},
     "output_type": "execute_result"
    }
   ],
   "source": [
    "paragraph.split()"
   ]
  },
  {
   "cell_type": "code",
   "execution_count": 74,
   "metadata": {},
   "outputs": [
    {
     "data": {
      "text/plain": [
       "['مروة في البيت مع أخيها مصطفى.',\n",
       " 's',\n",
       " 'مروة: أحتاج إلى الخبز لعمل الإفطار.',\n",
       " 'مصطفى: هل ستذهبي إلى السوق؟',\n",
       " 's',\n",
       " 'مروة: نعم أريد أن أأكل.',\n",
       " 'مصطفى: أنا أيضاً أحتاج إلى شيئ من السوق.',\n",
       " 'مروة: ماذا تحتاج؟',\n",
       " 'مصطفى: بعض الطماطم من فضلك.',\n",
       " 'مروة: حسناً..',\n",
       " 'مصطفى: شكرا، أيضاً أريد ثلاثة تفاحات.',\n",
       " 'مروة: حسناً..',\n",
       " 'مصطفى: وعصير برتقال.',\n",
       " 'مروة: ماذا؟',\n",
       " 'مصطفى: ولبن أيضاً.',\n",
       " 'مروة: هممم.. عندي فكرة ممتازة يا أخي.',\n",
       " 'مصطفى: ماذا؟',\n",
       " 'مروة: خذ هذه النقود.',\n",
       " 'مروة: أنا أريد شيئ من السوق: خبز!']"
      ]
     },
     "execution_count": 74,
     "metadata": {},
     "output_type": "execute_result"
    }
   ],
   "source": [
    "story_texts[0]"
   ]
  },
  {
   "cell_type": "code",
   "execution_count": null,
   "metadata": {},
   "outputs": [],
   "source": []
  },
  {
   "cell_type": "code",
   "execution_count": null,
   "metadata": {},
   "outputs": [],
   "source": []
  },
  {
   "cell_type": "code",
   "execution_count": 3,
   "metadata": {
    "collapsed": true
   },
   "outputs": [
    {
     "name": "stdout",
     "output_type": "stream",
     "text": [
      "import React, { useReducer, createContext } from \"react\";\n",
      "\n",
      "export const StoryContext = createContext();\n",
      "\n",
      "const storyTexts = [\n",
      "['مروة في البيت مع أخيها مصطفى.', 's', 'مروة: أحتاج إلى الخبز لعمل الإفطار.', 'مصطفى: هل ستذهبي إلى السوق؟', 's', 'مروة: نعم أريد أن أأكل.', 'مصطفى: أنا أيضاً أحتاج إلى شيئ من السوق.', 'مروة: ماذا تحتاج؟', 'مصطفى: بعض الطماطم من فضلك.', 'مروة: حسناً..', 'مصطفى: شكرا، أيضاً أريد ثلاثة تفاحات.', 'مروة: حسناً..', 'مصطفى: وعصير برتقال.', 'مروة: ماذا؟', 'مصطفى: ولبن أيضاً.', 'مروة: هممم.. عندي فكرة ممتازة يا أخي.', 'مصطفى: ماذا؟', 'مروة: خذ هذه النقود.', 'مروة: أنا أريد شيئ من السوق: خبز!'],\n",
      "\t['أحمد في البيت مع زوجته منى.', 'أحمد: صباح الخير يا منى!', 'منى: صباح الخير يا عزيزي.', 's', 'أين كتابي؟', 'معذرة؟', 's', 'أنا أحتاج إلى كتابي', 'إن كتابك على الطاولة!', 's', \"أنتهت القصة\"],\t[\"أحمد ذهب للأكل\", \"s\", \"paragraph1\", \"paragraph2\", \"s\", \"iwejfoiew\", \"s\"],[ \"paragraph 1 for story 3\", \"paragraph2 for story 3\", \"paragraph3 for story 3\"]];\n",
      "\n",
      "const storyQuestions =  [\n",
      "[['what is the meaning of \"البيت\" ?'], ['The Home'], ['The Market'], ['The School'], ['Cat'], ['1'], ['What is the meaning of \"السوق\" ?'], ['The Market'], ['The House'], ['Tomatoes'], ['Going'], ['1']],\n",
      "[[\"what is the meaning of 'عزيزي'?\"], ['My brother.'], ['My dear.'], ['My child.'], ['My love.'], ['2'], [\"what is the meaning of 'معذرة' ?\"], ['sorry'], ['why'], ['where'], ['excuse me'], ['4'], ['what is the meaning of طاولة '], ['table'], ['book'], ['bed'], ['tv'], ['1']],\n",
      "\t[[\"why?\"],\n",
      "\t [\"ha\"],\n",
      "\t [\"ba\"],\n",
      "\t [\"tah\"],\n",
      "\t [\"gah\"],\n",
      "\t [\"3\"],\n",
      "\t [\"when?\"],\n",
      "\t [\"in\"],\n",
      "\t [\"tin\"],\n",
      "\t [\"zen\"],\n",
      "\t [\"fen\"],\n",
      "\t [\"4\"]],\n",
      "\t\t\t\t\t\t\t\t\t\t\t\t[]]\n",
      "\n",
      "\n",
      "const storyDict = {\n",
      "\t\"Lorem\": \"good\",\n",
      "\t\"ipsum\": \"bad\",\n",
      "\t\"dolor\": \"pain\",\n",
      "\t\"sit\": \"bad\",\n",
      "\t\"amet\": \"good\",\n",
      "\t\"consectetur\": \"what\",\n",
      "\t\"adipiscing\": \"huh\",\n",
      "\t\"elit\": \"why\",\n",
      "\t}\n",
      "\n",
      "const initialState = {\n",
      "\tstoryTexts : storyTexts,\n",
      "\tstoryQuestions : storyQuestions,\n",
      "\tstoryDict : storyDict,\n",
      "\tparagraphCounter:0\n",
      "\t}\n",
      "\n",
      "const reducer = (state,action) => {\n",
      "\tswitch(action.type) {\n",
      "\t\t\tcase \"HOLD\":\n",
      "\t\t\t\treturn {...state};\n",
      "\t\t\tcase \"INC_PARAGRAPH_COUNTER\":\n",
      "\t\t\t\treturn{...state,paragraphCounter:state.paragraphCounter+1}\n",
      "\t\t\t}\n",
      "\t}\n",
      "\n",
      "\n",
      "export const StoryContextProvider = props => {\n",
      "\tconst [state, dispatch] = useReducer(reducer, initialState);\n",
      "\treturn (\n",
      "\t\t<StoryContext.Provider value={[state, dispatch]}>\n",
      "\t\t{props.children}\n",
      "\t</StoryContext.Provider>\n",
      "\t\t);\n",
      "};\n",
      "\n"
     ]
    }
   ],
   "source": [
    "print(open('story-context.js').read())"
   ]
  }
 ],
 "metadata": {
  "kernelspec": {
   "display_name": "Python 3",
   "language": "python",
   "name": "python3"
  },
  "language_info": {
   "codemirror_mode": {
    "name": "ipython",
    "version": 3
   },
   "file_extension": ".py",
   "mimetype": "text/x-python",
   "name": "python",
   "nbconvert_exporter": "python",
   "pygments_lexer": "ipython3",
   "version": "3.5.2"
  }
 },
 "nbformat": 4,
 "nbformat_minor": 2
}
